{
 "cells": [
  {
   "cell_type": "markdown",
   "metadata": {},
   "source": [
    "# Exercise notebook 2: Cleaning up our act\n",
    "This Jupyter notebook, for Week 2 of The Open University's [Learn to code for Data Analysis](https://www.futurelearn.com/courses/learn-to-code/) course, has code examples and coding activities for you. Remember to run the code in this notebook before you start.\n",
    "\n",
    "You'll come across steps in the FutureLearn course directing you to this notebook. Once you've done the exercise, go back to FutureLearn to discuss it with your fellow learners and course facilitators and mark it as complete. "
   ]
  },
  {
   "cell_type": "code",
   "execution_count": 33,
   "metadata": {
    "collapsed": true
   },
   "outputs": [],
   "source": [
    "from pandas import *"
   ]
  },
  {
   "cell_type": "markdown",
   "metadata": {},
   "source": [
    "##Exercise 1: Dataframes and CSV files\n",
    "\n",
    "To read a CSV file into a dataframe you need to call the pandas function called <code>read_csv()</code>. The simplest usage of this function is with a single argument, a string that holds the name of the CSV file, for example."
   ]
  },
  {
   "cell_type": "code",
   "execution_count": 34,
   "metadata": {
    "collapsed": false
   },
   "outputs": [],
   "source": [
    "df = read_csv('WHO POP TB all.csv')"
   ]
  },
  {
   "cell_type": "markdown",
   "metadata": {},
   "source": [
    "###Dataframe attributes\n",
    "\n",
    "An dataframe attribute is like a variable that can only be accessed in the context of a dataframe. Once such attribute is <code>columns</code> which holds a dataframe's column names."
   ]
  },
  {
   "cell_type": "code",
   "execution_count": 35,
   "metadata": {
    "collapsed": false
   },
   "outputs": [
    {
     "data": {
      "text/plain": [
       "Index(['Country', 'Population (1000s)', 'TB deaths'], dtype='object')"
      ]
     },
     "execution_count": 35,
     "metadata": {},
     "output_type": "execute_result"
    }
   ],
   "source": [
    "df.columns"
   ]
  },
  {
   "cell_type": "markdown",
   "metadata": {},
   "source": [
    "###Dataframe rows\n",
    "A dataframe has a default integer index for its rows, which starts at zero <code>0</code>. The `irow()` method returns the row at the given index."
   ]
  },
  {
   "cell_type": "code",
   "execution_count": 36,
   "metadata": {
    "collapsed": false
   },
   "outputs": [
    {
     "data": {
      "text/plain": [
       "Country               Afghanistan\n",
       "Population (1000s)          30552\n",
       "TB deaths                   13000\n",
       "Name: 0, dtype: object"
      ]
     },
     "execution_count": 36,
     "metadata": {},
     "output_type": "execute_result"
    }
   ],
   "source": [
    "df.irow(0) # first row, index 0"
   ]
  },
  {
   "cell_type": "code",
   "execution_count": 37,
   "metadata": {
    "collapsed": false
   },
   "outputs": [
    {
     "data": {
      "text/plain": [
       "Country               Algeria\n",
       "Population (1000s)      39208\n",
       "TB deaths                5100\n",
       "Name: 2, dtype: object"
      ]
     },
     "execution_count": 37,
     "metadata": {},
     "output_type": "execute_result"
    }
   ],
   "source": [
    "df.irow(2) # third row, index 2"
   ]
  },
  {
   "cell_type": "markdown",
   "metadata": {},
   "source": [
    "###The <code>head()</code> method\n",
    "\n",
    "The `head()` method returns a dataframe with the first rows, as many as given in the argument. By default, if the argument is missing, it returns the first five rows."
   ]
  },
  {
   "cell_type": "code",
   "execution_count": 38,
   "metadata": {
    "collapsed": false
   },
   "outputs": [
    {
     "data": {
      "text/html": [
       "<div>\n",
       "<table border=\"1\" class=\"dataframe\">\n",
       "  <thead>\n",
       "    <tr style=\"text-align: right;\">\n",
       "      <th></th>\n",
       "      <th>Country</th>\n",
       "      <th>Population (1000s)</th>\n",
       "      <th>TB deaths</th>\n",
       "    </tr>\n",
       "  </thead>\n",
       "  <tbody>\n",
       "    <tr>\n",
       "      <th>0</th>\n",
       "      <td>Afghanistan</td>\n",
       "      <td>30552</td>\n",
       "      <td>13000.00</td>\n",
       "    </tr>\n",
       "    <tr>\n",
       "      <th>1</th>\n",
       "      <td>Albania</td>\n",
       "      <td>3173</td>\n",
       "      <td>20.00</td>\n",
       "    </tr>\n",
       "    <tr>\n",
       "      <th>2</th>\n",
       "      <td>Algeria</td>\n",
       "      <td>39208</td>\n",
       "      <td>5100.00</td>\n",
       "    </tr>\n",
       "    <tr>\n",
       "      <th>3</th>\n",
       "      <td>Andorra</td>\n",
       "      <td>79</td>\n",
       "      <td>0.26</td>\n",
       "    </tr>\n",
       "    <tr>\n",
       "      <th>4</th>\n",
       "      <td>Angola</td>\n",
       "      <td>21472</td>\n",
       "      <td>6900.00</td>\n",
       "    </tr>\n",
       "  </tbody>\n",
       "</table>\n",
       "</div>"
      ],
      "text/plain": [
       "       Country  Population (1000s)  TB deaths\n",
       "0  Afghanistan               30552   13000.00\n",
       "1      Albania                3173      20.00\n",
       "2      Algeria               39208    5100.00\n",
       "3      Andorra                  79       0.26\n",
       "4       Angola               21472    6900.00"
      ]
     },
     "execution_count": 38,
     "metadata": {},
     "output_type": "execute_result"
    }
   ],
   "source": [
    "df.head() # first five rows"
   ]
  },
  {
   "cell_type": "code",
   "execution_count": 39,
   "metadata": {
    "collapsed": false
   },
   "outputs": [
    {
     "data": {
      "text/html": [
       "<div>\n",
       "<table border=\"1\" class=\"dataframe\">\n",
       "  <thead>\n",
       "    <tr style=\"text-align: right;\">\n",
       "      <th></th>\n",
       "      <th>Country</th>\n",
       "      <th>Population (1000s)</th>\n",
       "      <th>TB deaths</th>\n",
       "    </tr>\n",
       "  </thead>\n",
       "  <tbody>\n",
       "    <tr>\n",
       "      <th>0</th>\n",
       "      <td>Afghanistan</td>\n",
       "      <td>30552</td>\n",
       "      <td>13000.00</td>\n",
       "    </tr>\n",
       "    <tr>\n",
       "      <th>1</th>\n",
       "      <td>Albania</td>\n",
       "      <td>3173</td>\n",
       "      <td>20.00</td>\n",
       "    </tr>\n",
       "    <tr>\n",
       "      <th>2</th>\n",
       "      <td>Algeria</td>\n",
       "      <td>39208</td>\n",
       "      <td>5100.00</td>\n",
       "    </tr>\n",
       "    <tr>\n",
       "      <th>3</th>\n",
       "      <td>Andorra</td>\n",
       "      <td>79</td>\n",
       "      <td>0.26</td>\n",
       "    </tr>\n",
       "    <tr>\n",
       "      <th>4</th>\n",
       "      <td>Angola</td>\n",
       "      <td>21472</td>\n",
       "      <td>6900.00</td>\n",
       "    </tr>\n",
       "    <tr>\n",
       "      <th>5</th>\n",
       "      <td>Antigua and Barbuda</td>\n",
       "      <td>90</td>\n",
       "      <td>1.20</td>\n",
       "    </tr>\n",
       "    <tr>\n",
       "      <th>6</th>\n",
       "      <td>Argentina</td>\n",
       "      <td>41446</td>\n",
       "      <td>570.00</td>\n",
       "    </tr>\n",
       "  </tbody>\n",
       "</table>\n",
       "</div>"
      ],
      "text/plain": [
       "               Country  Population (1000s)  TB deaths\n",
       "0          Afghanistan               30552   13000.00\n",
       "1              Albania                3173      20.00\n",
       "2              Algeria               39208    5100.00\n",
       "3              Andorra                  79       0.26\n",
       "4               Angola               21472    6900.00\n",
       "5  Antigua and Barbuda                  90       1.20\n",
       "6            Argentina               41446     570.00"
      ]
     },
     "execution_count": 39,
     "metadata": {},
     "output_type": "execute_result"
    }
   ],
   "source": [
    "df.head(7) # first seven rows"
   ]
  },
  {
   "cell_type": "markdown",
   "metadata": {},
   "source": [
    "###The <code>tail()</code> method\n",
    "The <code>tail()</code> method is similar to the <code>head()</code> method. If no argument is used, the last five rows of the dataframe are returned, otherwise the number of rows returned is dependent on the argument."
   ]
  },
  {
   "cell_type": "code",
   "execution_count": 40,
   "metadata": {
    "collapsed": false
   },
   "outputs": [
    {
     "data": {
      "text/html": [
       "<div>\n",
       "<table border=\"1\" class=\"dataframe\">\n",
       "  <thead>\n",
       "    <tr style=\"text-align: right;\">\n",
       "      <th></th>\n",
       "      <th>Country</th>\n",
       "      <th>Population (1000s)</th>\n",
       "      <th>TB deaths</th>\n",
       "    </tr>\n",
       "  </thead>\n",
       "  <tbody>\n",
       "    <tr>\n",
       "      <th>189</th>\n",
       "      <td>Venezuela (Bolivarian Republic of)</td>\n",
       "      <td>30405</td>\n",
       "      <td>480</td>\n",
       "    </tr>\n",
       "    <tr>\n",
       "      <th>190</th>\n",
       "      <td>Viet Nam</td>\n",
       "      <td>91680</td>\n",
       "      <td>17000</td>\n",
       "    </tr>\n",
       "    <tr>\n",
       "      <th>191</th>\n",
       "      <td>Yemen</td>\n",
       "      <td>24407</td>\n",
       "      <td>990</td>\n",
       "    </tr>\n",
       "    <tr>\n",
       "      <th>192</th>\n",
       "      <td>Zambia</td>\n",
       "      <td>14539</td>\n",
       "      <td>3600</td>\n",
       "    </tr>\n",
       "    <tr>\n",
       "      <th>193</th>\n",
       "      <td>Zimbabwe</td>\n",
       "      <td>14150</td>\n",
       "      <td>5700</td>\n",
       "    </tr>\n",
       "  </tbody>\n",
       "</table>\n",
       "</div>"
      ],
      "text/plain": [
       "                                Country  Population (1000s)  TB deaths\n",
       "189  Venezuela (Bolivarian Republic of)               30405        480\n",
       "190                            Viet Nam               91680      17000\n",
       "191                               Yemen               24407        990\n",
       "192                              Zambia               14539       3600\n",
       "193                            Zimbabwe               14150       5700"
      ]
     },
     "execution_count": 40,
     "metadata": {},
     "output_type": "execute_result"
    }
   ],
   "source": [
    "df.tail() # last five rows"
   ]
  },
  {
   "cell_type": "markdown",
   "metadata": {},
   "source": [
    "###Selecting and displaying columns in a dataframe\n",
    "You found in Week 1 that you can select and display the values for a single dataframe column by puting the name of the column (in quotes) within square brackets immediately after the dataframe's name. However you can also select and display the values for multiple columns too.\n",
    "\n",
    "To get multiple columns you need to use a list. A list in Python is a number of items separated by commas within square brackets, for example `['Country', 'Population (1000s)']`. This list is then put within square brackets immediately after the dataframe's name. The resulting expression represents a new dataframe, just with those columns, and therefore any dataframe method can be applied to it, like for example `head()`:"
   ]
  },
  {
   "cell_type": "code",
   "execution_count": 41,
   "metadata": {
    "collapsed": false
   },
   "outputs": [
    {
     "data": {
      "text/html": [
       "<div>\n",
       "<table border=\"1\" class=\"dataframe\">\n",
       "  <thead>\n",
       "    <tr style=\"text-align: right;\">\n",
       "      <th></th>\n",
       "      <th>Country</th>\n",
       "      <th>Population (1000s)</th>\n",
       "    </tr>\n",
       "  </thead>\n",
       "  <tbody>\n",
       "    <tr>\n",
       "      <th>0</th>\n",
       "      <td>Afghanistan</td>\n",
       "      <td>30552</td>\n",
       "    </tr>\n",
       "    <tr>\n",
       "      <th>1</th>\n",
       "      <td>Albania</td>\n",
       "      <td>3173</td>\n",
       "    </tr>\n",
       "    <tr>\n",
       "      <th>2</th>\n",
       "      <td>Algeria</td>\n",
       "      <td>39208</td>\n",
       "    </tr>\n",
       "    <tr>\n",
       "      <th>3</th>\n",
       "      <td>Andorra</td>\n",
       "      <td>79</td>\n",
       "    </tr>\n",
       "    <tr>\n",
       "      <th>4</th>\n",
       "      <td>Angola</td>\n",
       "      <td>21472</td>\n",
       "    </tr>\n",
       "  </tbody>\n",
       "</table>\n",
       "</div>"
      ],
      "text/plain": [
       "       Country  Population (1000s)\n",
       "0  Afghanistan               30552\n",
       "1      Albania                3173\n",
       "2      Algeria               39208\n",
       "3      Andorra                  79\n",
       "4       Angola               21472"
      ]
     },
     "execution_count": 41,
     "metadata": {},
     "output_type": "execute_result"
    }
   ],
   "source": [
    "df[['Country', 'Population (1000s)']].head()"
   ]
  },
  {
   "cell_type": "markdown",
   "metadata": {},
   "source": [
    "###Applying methods to a dataframe column\n",
    "The `irow()`, <code>head()</code> and <code>tail()</code> methods discussed above can be used with single columns."
   ]
  },
  {
   "cell_type": "code",
   "execution_count": 42,
   "metadata": {
    "collapsed": false
   },
   "outputs": [
    {
     "data": {
      "text/plain": [
       "5100.0"
      ]
     },
     "execution_count": 42,
     "metadata": {},
     "output_type": "execute_result"
    }
   ],
   "source": [
    "df['TB deaths'].irow(2) # third value of deaths column"
   ]
  },
  {
   "cell_type": "code",
   "execution_count": 43,
   "metadata": {
    "collapsed": false
   },
   "outputs": [
    {
     "data": {
      "text/plain": [
       "189    30405\n",
       "190    91680\n",
       "191    24407\n",
       "192    14539\n",
       "193    14150\n",
       "Name: Population (1000s), dtype: int64"
      ]
     },
     "execution_count": 43,
     "metadata": {},
     "output_type": "execute_result"
    }
   ],
   "source": [
    "df['Population (1000s)'].tail() # last five values of population column      "
   ]
  },
  {
   "cell_type": "markdown",
   "metadata": {},
   "source": [
    "\n",
    "###Tasks\n",
    "\n",
    "In the code cell below, write the code to get and display the 55th row in the dataframe <code>df</code>."
   ]
  },
  {
   "cell_type": "code",
   "execution_count": null,
   "metadata": {
    "collapsed": true
   },
   "outputs": [],
   "source": []
  },
  {
   "cell_type": "markdown",
   "metadata": {
    "collapsed": false
   },
   "source": [
    "In the code cell below write the code to display the first 10 rows of the dataframe <code>df</code>."
   ]
  },
  {
   "cell_type": "code",
   "execution_count": null,
   "metadata": {
    "collapsed": true
   },
   "outputs": [],
   "source": []
  },
  {
   "cell_type": "markdown",
   "metadata": {},
   "source": [
    "In the code cell below, select and display the first eight rows from the <code>'Country'</code> and <code>'TB deaths'</code> columns."
   ]
  },
  {
   "cell_type": "code",
   "execution_count": null,
   "metadata": {
    "collapsed": true
   },
   "outputs": [],
   "source": []
  },
  {
   "cell_type": "markdown",
   "metadata": {},
   "source": [
    "**Now go back to the Exercise 1 step in FutureLearn to discuss and mark it complete.**"
   ]
  },
  {
   "cell_type": "markdown",
   "metadata": {},
   "source": [
    "##Exercise 2: Comparison operators\n",
    "Python has the following comparison operators:\n",
    "\n",
    "    == (equals)\n",
    "    != (not equal)\n",
    "    < (less than)\n",
    "    > (greater than)\n",
    "    <= (less than or equal to)\n",
    "    >= (greater than or equal to)\n",
    "\n",
    "The following code will get and display all the rows in `df` where it is `True` that the value in the `'Population (1000s)'` column is greater than `80000`."
   ]
  },
  {
   "cell_type": "code",
   "execution_count": 44,
   "metadata": {
    "collapsed": false
   },
   "outputs": [
    {
     "data": {
      "text/html": [
       "<div>\n",
       "<table border=\"1\" class=\"dataframe\">\n",
       "  <thead>\n",
       "    <tr style=\"text-align: right;\">\n",
       "      <th></th>\n",
       "      <th>Country</th>\n",
       "      <th>Population (1000s)</th>\n",
       "      <th>TB deaths</th>\n",
       "    </tr>\n",
       "  </thead>\n",
       "  <tbody>\n",
       "    <tr>\n",
       "      <th>13</th>\n",
       "      <td>Bangladesh</td>\n",
       "      <td>156595</td>\n",
       "      <td>80000</td>\n",
       "    </tr>\n",
       "    <tr>\n",
       "      <th>23</th>\n",
       "      <td>Brazil</td>\n",
       "      <td>200362</td>\n",
       "      <td>4400</td>\n",
       "    </tr>\n",
       "    <tr>\n",
       "      <th>36</th>\n",
       "      <td>China</td>\n",
       "      <td>1393337</td>\n",
       "      <td>41000</td>\n",
       "    </tr>\n",
       "    <tr>\n",
       "      <th>53</th>\n",
       "      <td>Egypt</td>\n",
       "      <td>82056</td>\n",
       "      <td>550</td>\n",
       "    </tr>\n",
       "    <tr>\n",
       "      <th>58</th>\n",
       "      <td>Ethiopia</td>\n",
       "      <td>94101</td>\n",
       "      <td>30000</td>\n",
       "    </tr>\n",
       "    <tr>\n",
       "      <th>65</th>\n",
       "      <td>Germany</td>\n",
       "      <td>82727</td>\n",
       "      <td>300</td>\n",
       "    </tr>\n",
       "    <tr>\n",
       "      <th>77</th>\n",
       "      <td>India</td>\n",
       "      <td>1252140</td>\n",
       "      <td>240000</td>\n",
       "    </tr>\n",
       "    <tr>\n",
       "      <th>78</th>\n",
       "      <td>Indonesia</td>\n",
       "      <td>249866</td>\n",
       "      <td>64000</td>\n",
       "    </tr>\n",
       "    <tr>\n",
       "      <th>85</th>\n",
       "      <td>Japan</td>\n",
       "      <td>127144</td>\n",
       "      <td>2100</td>\n",
       "    </tr>\n",
       "    <tr>\n",
       "      <th>109</th>\n",
       "      <td>Mexico</td>\n",
       "      <td>122332</td>\n",
       "      <td>2200</td>\n",
       "    </tr>\n",
       "    <tr>\n",
       "      <th>124</th>\n",
       "      <td>Nigeria</td>\n",
       "      <td>173615</td>\n",
       "      <td>160000</td>\n",
       "    </tr>\n",
       "    <tr>\n",
       "      <th>128</th>\n",
       "      <td>Pakistan</td>\n",
       "      <td>182143</td>\n",
       "      <td>49000</td>\n",
       "    </tr>\n",
       "    <tr>\n",
       "      <th>134</th>\n",
       "      <td>Philippines</td>\n",
       "      <td>98394</td>\n",
       "      <td>27000</td>\n",
       "    </tr>\n",
       "    <tr>\n",
       "      <th>141</th>\n",
       "      <td>Russian Federation</td>\n",
       "      <td>142834</td>\n",
       "      <td>17000</td>\n",
       "    </tr>\n",
       "    <tr>\n",
       "      <th>185</th>\n",
       "      <td>United States of America</td>\n",
       "      <td>320051</td>\n",
       "      <td>490</td>\n",
       "    </tr>\n",
       "    <tr>\n",
       "      <th>190</th>\n",
       "      <td>Viet Nam</td>\n",
       "      <td>91680</td>\n",
       "      <td>17000</td>\n",
       "    </tr>\n",
       "  </tbody>\n",
       "</table>\n",
       "</div>"
      ],
      "text/plain": [
       "                      Country  Population (1000s)  TB deaths\n",
       "13                 Bangladesh              156595      80000\n",
       "23                     Brazil              200362       4400\n",
       "36                      China             1393337      41000\n",
       "53                      Egypt               82056        550\n",
       "58                   Ethiopia               94101      30000\n",
       "65                    Germany               82727        300\n",
       "77                      India             1252140     240000\n",
       "78                  Indonesia              249866      64000\n",
       "85                      Japan              127144       2100\n",
       "109                    Mexico              122332       2200\n",
       "124                   Nigeria              173615     160000\n",
       "128                  Pakistan              182143      49000\n",
       "134               Philippines               98394      27000\n",
       "141        Russian Federation              142834      17000\n",
       "185  United States of America              320051        490\n",
       "190                  Viet Nam               91680      17000"
      ]
     },
     "execution_count": 44,
     "metadata": {},
     "output_type": "execute_result"
    }
   ],
   "source": [
    "df[df['Population (1000s)'] > 80000]         "
   ]
  },
  {
   "cell_type": "markdown",
   "metadata": {},
   "source": [
    "### Task\n",
    "In the code cell below write code to find all the rows in <code>df</code> where TB deaths exceed 10000."
   ]
  },
  {
   "cell_type": "code",
   "execution_count": null,
   "metadata": {
    "collapsed": false
   },
   "outputs": [],
   "source": [
    "       "
   ]
  },
  {
   "cell_type": "markdown",
   "metadata": {},
   "source": [
    "**Now go back to the Exercise 2 step in FutureLearn to discuss and mark it complete.**"
   ]
  },
  {
   "cell_type": "markdown",
   "metadata": {},
   "source": [
    "##Exercise 3: Bitwise operators\n",
    "\n",
    "Pandas has two operators to make more complicated queries. Use the operator `&` (means 'and') to select rows where two conditions are both true. Use the operator `|` (means 'or') to select rows where at least one condition is true. Don't forget to put parentheses around _each_ comparison. For example, the following expression selects only countries with a population over 80 million inhabitants **and** with more that 10 thousand deaths."
   ]
  },
  {
   "cell_type": "code",
   "execution_count": 45,
   "metadata": {
    "collapsed": false
   },
   "outputs": [
    {
     "data": {
      "text/html": [
       "<div>\n",
       "<table border=\"1\" class=\"dataframe\">\n",
       "  <thead>\n",
       "    <tr style=\"text-align: right;\">\n",
       "      <th></th>\n",
       "      <th>Country</th>\n",
       "      <th>Population (1000s)</th>\n",
       "      <th>TB deaths</th>\n",
       "    </tr>\n",
       "  </thead>\n",
       "  <tbody>\n",
       "    <tr>\n",
       "      <th>13</th>\n",
       "      <td>Bangladesh</td>\n",
       "      <td>156595</td>\n",
       "      <td>80000</td>\n",
       "    </tr>\n",
       "    <tr>\n",
       "      <th>36</th>\n",
       "      <td>China</td>\n",
       "      <td>1393337</td>\n",
       "      <td>41000</td>\n",
       "    </tr>\n",
       "    <tr>\n",
       "      <th>58</th>\n",
       "      <td>Ethiopia</td>\n",
       "      <td>94101</td>\n",
       "      <td>30000</td>\n",
       "    </tr>\n",
       "    <tr>\n",
       "      <th>77</th>\n",
       "      <td>India</td>\n",
       "      <td>1252140</td>\n",
       "      <td>240000</td>\n",
       "    </tr>\n",
       "    <tr>\n",
       "      <th>78</th>\n",
       "      <td>Indonesia</td>\n",
       "      <td>249866</td>\n",
       "      <td>64000</td>\n",
       "    </tr>\n",
       "    <tr>\n",
       "      <th>124</th>\n",
       "      <td>Nigeria</td>\n",
       "      <td>173615</td>\n",
       "      <td>160000</td>\n",
       "    </tr>\n",
       "    <tr>\n",
       "      <th>128</th>\n",
       "      <td>Pakistan</td>\n",
       "      <td>182143</td>\n",
       "      <td>49000</td>\n",
       "    </tr>\n",
       "    <tr>\n",
       "      <th>134</th>\n",
       "      <td>Philippines</td>\n",
       "      <td>98394</td>\n",
       "      <td>27000</td>\n",
       "    </tr>\n",
       "    <tr>\n",
       "      <th>141</th>\n",
       "      <td>Russian Federation</td>\n",
       "      <td>142834</td>\n",
       "      <td>17000</td>\n",
       "    </tr>\n",
       "    <tr>\n",
       "      <th>190</th>\n",
       "      <td>Viet Nam</td>\n",
       "      <td>91680</td>\n",
       "      <td>17000</td>\n",
       "    </tr>\n",
       "  </tbody>\n",
       "</table>\n",
       "</div>"
      ],
      "text/plain": [
       "                Country  Population (1000s)  TB deaths\n",
       "13           Bangladesh              156595      80000\n",
       "36                China             1393337      41000\n",
       "58             Ethiopia               94101      30000\n",
       "77                India             1252140     240000\n",
       "78            Indonesia              249866      64000\n",
       "124             Nigeria              173615     160000\n",
       "128            Pakistan              182143      49000\n",
       "134         Philippines               98394      27000\n",
       "141  Russian Federation              142834      17000\n",
       "190            Viet Nam               91680      17000"
      ]
     },
     "execution_count": 45,
     "metadata": {},
     "output_type": "execute_result"
    }
   ],
   "source": [
    "df[(df['Population (1000s)'] > 80000) & (df['TB deaths'] > 10000)]"
   ]
  },
  {
   "cell_type": "markdown",
   "metadata": {},
   "source": [
    "If the same columns will be used repeatedly in the program, the code becomes more readable if written as follows:"
   ]
  },
  {
   "cell_type": "code",
   "execution_count": 46,
   "metadata": {
    "collapsed": false
   },
   "outputs": [
    {
     "data": {
      "text/html": [
       "<div>\n",
       "<table border=\"1\" class=\"dataframe\">\n",
       "  <thead>\n",
       "    <tr style=\"text-align: right;\">\n",
       "      <th></th>\n",
       "      <th>Country</th>\n",
       "      <th>Population (1000s)</th>\n",
       "      <th>TB deaths</th>\n",
       "    </tr>\n",
       "  </thead>\n",
       "  <tbody>\n",
       "    <tr>\n",
       "      <th>13</th>\n",
       "      <td>Bangladesh</td>\n",
       "      <td>156595</td>\n",
       "      <td>80000</td>\n",
       "    </tr>\n",
       "    <tr>\n",
       "      <th>36</th>\n",
       "      <td>China</td>\n",
       "      <td>1393337</td>\n",
       "      <td>41000</td>\n",
       "    </tr>\n",
       "    <tr>\n",
       "      <th>58</th>\n",
       "      <td>Ethiopia</td>\n",
       "      <td>94101</td>\n",
       "      <td>30000</td>\n",
       "    </tr>\n",
       "    <tr>\n",
       "      <th>77</th>\n",
       "      <td>India</td>\n",
       "      <td>1252140</td>\n",
       "      <td>240000</td>\n",
       "    </tr>\n",
       "    <tr>\n",
       "      <th>78</th>\n",
       "      <td>Indonesia</td>\n",
       "      <td>249866</td>\n",
       "      <td>64000</td>\n",
       "    </tr>\n",
       "    <tr>\n",
       "      <th>124</th>\n",
       "      <td>Nigeria</td>\n",
       "      <td>173615</td>\n",
       "      <td>160000</td>\n",
       "    </tr>\n",
       "    <tr>\n",
       "      <th>128</th>\n",
       "      <td>Pakistan</td>\n",
       "      <td>182143</td>\n",
       "      <td>49000</td>\n",
       "    </tr>\n",
       "    <tr>\n",
       "      <th>134</th>\n",
       "      <td>Philippines</td>\n",
       "      <td>98394</td>\n",
       "      <td>27000</td>\n",
       "    </tr>\n",
       "    <tr>\n",
       "      <th>141</th>\n",
       "      <td>Russian Federation</td>\n",
       "      <td>142834</td>\n",
       "      <td>17000</td>\n",
       "    </tr>\n",
       "    <tr>\n",
       "      <th>190</th>\n",
       "      <td>Viet Nam</td>\n",
       "      <td>91680</td>\n",
       "      <td>17000</td>\n",
       "    </tr>\n",
       "  </tbody>\n",
       "</table>\n",
       "</div>"
      ],
      "text/plain": [
       "                Country  Population (1000s)  TB deaths\n",
       "13           Bangladesh              156595      80000\n",
       "36                China             1393337      41000\n",
       "58             Ethiopia               94101      30000\n",
       "77                India             1252140     240000\n",
       "78            Indonesia              249866      64000\n",
       "124             Nigeria              173615     160000\n",
       "128            Pakistan              182143      49000\n",
       "134         Philippines               98394      27000\n",
       "141  Russian Federation              142834      17000\n",
       "190            Viet Nam               91680      17000"
      ]
     },
     "execution_count": 46,
     "metadata": {},
     "output_type": "execute_result"
    }
   ],
   "source": [
    "population = df['Population (1000s)']\n",
    "deaths = df['TB deaths']\n",
    "df[(population > 80000) & (deaths > 10000)]  "
   ]
  },
  {
   "cell_type": "markdown",
   "metadata": {},
   "source": [
    "###Task\n",
    "In the code cell below find  all the countries where the Population (1000s) is **less than or equal to** 50000 **or** TB deaths are **greater than or equal to** 20000."
   ]
  },
  {
   "cell_type": "code",
   "execution_count": null,
   "metadata": {
    "collapsed": true
   },
   "outputs": [],
   "source": []
  },
  {
   "cell_type": "markdown",
   "metadata": {},
   "source": [
    "**Now go back to the Exercise 3 step in FutureLearn to discuss and mark it complete.**"
   ]
  },
  {
   "cell_type": "markdown",
   "metadata": {},
   "source": [
    "##Exercise 4: Display rows from dataframe\n",
    "\n",
    "The 2014 Weather Underground data for London has been downloaded from the site as a CSV file and can now be read into a dataframe."
   ]
  },
  {
   "cell_type": "code",
   "execution_count": 47,
   "metadata": {
    "collapsed": false
   },
   "outputs": [
    {
     "data": {
      "text/html": [
       "<div>\n",
       "<table border=\"1\" class=\"dataframe\">\n",
       "  <thead>\n",
       "    <tr style=\"text-align: right;\">\n",
       "      <th></th>\n",
       "      <th>GMT</th>\n",
       "      <th>Temperatura máximaC</th>\n",
       "      <th>Temperatura mediaC</th>\n",
       "      <th>Temperatura mínimaC</th>\n",
       "      <th>Punto de rocíoC</th>\n",
       "      <th>MeanDew PointC</th>\n",
       "      <th>Min DewpointC</th>\n",
       "      <th>Max Humedad</th>\n",
       "      <th>Mean Humedad</th>\n",
       "      <th>Min Humedad</th>\n",
       "      <th>...</th>\n",
       "      <th>Max VisibilidadKm</th>\n",
       "      <th>Mean VisibilidadKm</th>\n",
       "      <th>Min VisibilidadkM</th>\n",
       "      <th>Max Velocidad del vientoKm/h</th>\n",
       "      <th>Mean Velocidad del vientoKm/h</th>\n",
       "      <th>Max Velocidad de ráfagasKm/h</th>\n",
       "      <th>Precipitaciónmm</th>\n",
       "      <th>CloudCover</th>\n",
       "      <th>Eventos</th>\n",
       "      <th>WindDirDegrees</th>\n",
       "    </tr>\n",
       "  </thead>\n",
       "  <tbody>\n",
       "    <tr>\n",
       "      <th>0</th>\n",
       "      <td>2014-1-1</td>\n",
       "      <td>11</td>\n",
       "      <td>8</td>\n",
       "      <td>6</td>\n",
       "      <td>9</td>\n",
       "      <td>7</td>\n",
       "      <td>4</td>\n",
       "      <td>94</td>\n",
       "      <td>86</td>\n",
       "      <td>73</td>\n",
       "      <td>...</td>\n",
       "      <td>31</td>\n",
       "      <td>11</td>\n",
       "      <td>2</td>\n",
       "      <td>40</td>\n",
       "      <td>26</td>\n",
       "      <td>66</td>\n",
       "      <td>9.91</td>\n",
       "      <td>4</td>\n",
       "      <td>Lluvia</td>\n",
       "      <td>186</td>\n",
       "    </tr>\n",
       "    <tr>\n",
       "      <th>1</th>\n",
       "      <td>2014-1-2</td>\n",
       "      <td>11</td>\n",
       "      <td>9</td>\n",
       "      <td>6</td>\n",
       "      <td>9</td>\n",
       "      <td>6</td>\n",
       "      <td>4</td>\n",
       "      <td>94</td>\n",
       "      <td>81</td>\n",
       "      <td>60</td>\n",
       "      <td>...</td>\n",
       "      <td>31</td>\n",
       "      <td>15</td>\n",
       "      <td>5</td>\n",
       "      <td>32</td>\n",
       "      <td>21</td>\n",
       "      <td>50</td>\n",
       "      <td>1.02</td>\n",
       "      <td>2</td>\n",
       "      <td>Lluvia</td>\n",
       "      <td>214</td>\n",
       "    </tr>\n",
       "    <tr>\n",
       "      <th>2</th>\n",
       "      <td>2014-1-3</td>\n",
       "      <td>11</td>\n",
       "      <td>8</td>\n",
       "      <td>6</td>\n",
       "      <td>9</td>\n",
       "      <td>5</td>\n",
       "      <td>2</td>\n",
       "      <td>94</td>\n",
       "      <td>76</td>\n",
       "      <td>54</td>\n",
       "      <td>...</td>\n",
       "      <td>31</td>\n",
       "      <td>12</td>\n",
       "      <td>0</td>\n",
       "      <td>50</td>\n",
       "      <td>29</td>\n",
       "      <td>69</td>\n",
       "      <td>7.11</td>\n",
       "      <td>2</td>\n",
       "      <td>Lluvia-Tormenta</td>\n",
       "      <td>219</td>\n",
       "    </tr>\n",
       "    <tr>\n",
       "      <th>3</th>\n",
       "      <td>2014-1-4</td>\n",
       "      <td>9</td>\n",
       "      <td>6</td>\n",
       "      <td>3</td>\n",
       "      <td>8</td>\n",
       "      <td>6</td>\n",
       "      <td>2</td>\n",
       "      <td>93</td>\n",
       "      <td>85</td>\n",
       "      <td>65</td>\n",
       "      <td>...</td>\n",
       "      <td>31</td>\n",
       "      <td>12</td>\n",
       "      <td>5</td>\n",
       "      <td>35</td>\n",
       "      <td>21</td>\n",
       "      <td>39</td>\n",
       "      <td>9.91</td>\n",
       "      <td>4</td>\n",
       "      <td>Lluvia</td>\n",
       "      <td>211</td>\n",
       "    </tr>\n",
       "    <tr>\n",
       "      <th>4</th>\n",
       "      <td>2014-1-5</td>\n",
       "      <td>12</td>\n",
       "      <td>7</td>\n",
       "      <td>1</td>\n",
       "      <td>11</td>\n",
       "      <td>4</td>\n",
       "      <td>-1</td>\n",
       "      <td>100</td>\n",
       "      <td>88</td>\n",
       "      <td>77</td>\n",
       "      <td>...</td>\n",
       "      <td>31</td>\n",
       "      <td>14</td>\n",
       "      <td>5</td>\n",
       "      <td>35</td>\n",
       "      <td>16</td>\n",
       "      <td>NaN</td>\n",
       "      <td>0.25</td>\n",
       "      <td>5</td>\n",
       "      <td>Lluvia</td>\n",
       "      <td>199</td>\n",
       "    </tr>\n",
       "  </tbody>\n",
       "</table>\n",
       "<p>5 rows × 23 columns</p>\n",
       "</div>"
      ],
      "text/plain": [
       "        GMT  Temperatura máximaC  Temperatura mediaC  Temperatura mínimaC  \\\n",
       "0  2014-1-1                   11                   8                    6   \n",
       "1  2014-1-2                   11                   9                    6   \n",
       "2  2014-1-3                   11                   8                    6   \n",
       "3  2014-1-4                    9                   6                    3   \n",
       "4  2014-1-5                   12                   7                    1   \n",
       "\n",
       "   Punto de rocíoC  MeanDew PointC  Min DewpointC  Max Humedad   Mean Humedad  \\\n",
       "0                9               7              4           94             86   \n",
       "1                9               6              4           94             81   \n",
       "2                9               5              2           94             76   \n",
       "3                8               6              2           93             85   \n",
       "4               11               4             -1          100             88   \n",
       "\n",
       "    Min Humedad       ...         Max VisibilidadKm   Mean VisibilidadKm  \\\n",
       "0            73       ...                        31                   11   \n",
       "1            60       ...                        31                   15   \n",
       "2            54       ...                        31                   12   \n",
       "3            65       ...                        31                   12   \n",
       "4            77       ...                        31                   14   \n",
       "\n",
       "    Min VisibilidadkM   Max Velocidad del vientoKm/h  \\\n",
       "0                   2                             40   \n",
       "1                   5                             32   \n",
       "2                   0                             50   \n",
       "3                   5                             35   \n",
       "4                   5                             35   \n",
       "\n",
       "    Mean Velocidad del vientoKm/h   Max Velocidad de ráfagasKm/h  \\\n",
       "0                              26                             66   \n",
       "1                              21                             50   \n",
       "2                              29                             69   \n",
       "3                              21                             39   \n",
       "4                              16                            NaN   \n",
       "\n",
       "   Precipitaciónmm   CloudCover          Eventos  WindDirDegrees  \n",
       "0             9.91            4           Lluvia             186  \n",
       "1             1.02            2           Lluvia             214  \n",
       "2             7.11            2  Lluvia-Tormenta             219  \n",
       "3             9.91            4           Lluvia             211  \n",
       "4             0.25            5           Lluvia             199  \n",
       "\n",
       "[5 rows x 23 columns]"
      ]
     },
     "execution_count": 47,
     "metadata": {},
     "output_type": "execute_result"
    }
   ],
   "source": [
    "london = read_csv('London_2014.csv')\n",
    "london.head()"
   ]
  },
  {
   "cell_type": "markdown",
   "metadata": {},
   "source": [
    "### Removing initial spaces\n",
    "\n",
    "There are too many columns for the dataframe to fit horizontally in this notebook, but they can be displayed separately."
   ]
  },
  {
   "cell_type": "code",
   "execution_count": 48,
   "metadata": {
    "collapsed": false
   },
   "outputs": [
    {
     "data": {
      "text/plain": [
       "Index(['GMT', 'Temperatura máximaC', 'Temperatura mediaC',\n",
       "       'Temperatura mínimaC', 'Punto de rocíoC', 'MeanDew PointC',\n",
       "       'Min DewpointC', 'Max Humedad', ' Mean Humedad', ' Min Humedad',\n",
       "       ' Max Presión al nivel del marhPa', ' Mean Presión al nivel del marhPa',\n",
       "       ' Min Presión al nivel del marhPa', ' Max VisibilidadKm',\n",
       "       ' Mean VisibilidadKm', ' Min VisibilidadkM',\n",
       "       ' Max Velocidad del vientoKm/h', ' Mean Velocidad del vientoKm/h',\n",
       "       ' Max Velocidad de ráfagasKm/h', 'Precipitaciónmm', ' CloudCover',\n",
       "       ' Eventos', 'WindDirDegrees'],\n",
       "      dtype='object')"
      ]
     },
     "execution_count": 48,
     "metadata": {},
     "output_type": "execute_result"
    }
   ],
   "source": [
    "london.columns"
   ]
  },
  {
   "cell_type": "markdown",
   "metadata": {},
   "source": [
    "This shows that <code>' Max Wind SpeedKm/h'</code> is prefixed by a space, as do other columm names such as <code>' Mean Humidity'</code> and <code>' Max Sea Level PressurehPa'</code>.\n",
    "\n",
    "The  <code>read_csv()</code> function has interpreted spaces after commas as being part of the next value. This can be rectified  easily by adding another argument to the <code>read_csv()</code> function to skiop the initial spaces after a comma."
   ]
  },
  {
   "cell_type": "code",
   "execution_count": 49,
   "metadata": {
    "collapsed": false,
    "scrolled": true
   },
   "outputs": [],
   "source": [
    "london = read_csv('London_2014.csv', skipinitialspace=True)"
   ]
  },
  {
   "cell_type": "markdown",
   "metadata": {},
   "source": [
    "### Removing extra characters\n",
    "\n",
    "Another problem shown above is that the final column is called <code>'WindDirDegrees&lt; br /&gt;'</code>.\n",
    "\n",
    "When the dataset was exported from the Weather Underground web site html line breaks were automatically added to each line in the file which <code>read_csv()</code> has interpreted as part of the column name and its values. This can be seen more clearly by looking at more values in the final column:"
   ]
  },
  {
   "cell_type": "code",
   "execution_count": 50,
   "metadata": {
    "collapsed": false
   },
   "outputs": [
    {
     "ename": "KeyError",
     "evalue": "'WindDirDegrees<br />'",
     "output_type": "error",
     "traceback": [
      "\u001b[1;31m---------------------------------------------------------------------------\u001b[0m",
      "\u001b[1;31mKeyError\u001b[0m                                  Traceback (most recent call last)",
      "\u001b[1;32m<ipython-input-50-160318fee473>\u001b[0m in \u001b[0;36m<module>\u001b[1;34m()\u001b[0m\n\u001b[1;32m----> 1\u001b[1;33m \u001b[0mlondon\u001b[0m\u001b[1;33m[\u001b[0m\u001b[1;34m'WindDirDegrees<br />'\u001b[0m\u001b[1;33m]\u001b[0m\u001b[1;33m.\u001b[0m\u001b[0mhead\u001b[0m\u001b[1;33m(\u001b[0m\u001b[1;33m)\u001b[0m\u001b[1;33m\u001b[0m\u001b[0m\n\u001b[0m",
      "\u001b[1;32mC:\\Users\\fmarco\\Anaconda3\\lib\\site-packages\\pandas\\core\\frame.py\u001b[0m in \u001b[0;36m__getitem__\u001b[1;34m(self, key)\u001b[0m\n\u001b[0;32m   1795\u001b[0m             \u001b[1;32mreturn\u001b[0m \u001b[0mself\u001b[0m\u001b[1;33m.\u001b[0m\u001b[0m_getitem_multilevel\u001b[0m\u001b[1;33m(\u001b[0m\u001b[0mkey\u001b[0m\u001b[1;33m)\u001b[0m\u001b[1;33m\u001b[0m\u001b[0m\n\u001b[0;32m   1796\u001b[0m         \u001b[1;32melse\u001b[0m\u001b[1;33m:\u001b[0m\u001b[1;33m\u001b[0m\u001b[0m\n\u001b[1;32m-> 1797\u001b[1;33m             \u001b[1;32mreturn\u001b[0m \u001b[0mself\u001b[0m\u001b[1;33m.\u001b[0m\u001b[0m_getitem_column\u001b[0m\u001b[1;33m(\u001b[0m\u001b[0mkey\u001b[0m\u001b[1;33m)\u001b[0m\u001b[1;33m\u001b[0m\u001b[0m\n\u001b[0m\u001b[0;32m   1798\u001b[0m \u001b[1;33m\u001b[0m\u001b[0m\n\u001b[0;32m   1799\u001b[0m     \u001b[1;32mdef\u001b[0m \u001b[0m_getitem_column\u001b[0m\u001b[1;33m(\u001b[0m\u001b[0mself\u001b[0m\u001b[1;33m,\u001b[0m \u001b[0mkey\u001b[0m\u001b[1;33m)\u001b[0m\u001b[1;33m:\u001b[0m\u001b[1;33m\u001b[0m\u001b[0m\n",
      "\u001b[1;32mC:\\Users\\fmarco\\Anaconda3\\lib\\site-packages\\pandas\\core\\frame.py\u001b[0m in \u001b[0;36m_getitem_column\u001b[1;34m(self, key)\u001b[0m\n\u001b[0;32m   1802\u001b[0m         \u001b[1;31m# get column\u001b[0m\u001b[1;33m\u001b[0m\u001b[1;33m\u001b[0m\u001b[0m\n\u001b[0;32m   1803\u001b[0m         \u001b[1;32mif\u001b[0m \u001b[0mself\u001b[0m\u001b[1;33m.\u001b[0m\u001b[0mcolumns\u001b[0m\u001b[1;33m.\u001b[0m\u001b[0mis_unique\u001b[0m\u001b[1;33m:\u001b[0m\u001b[1;33m\u001b[0m\u001b[0m\n\u001b[1;32m-> 1804\u001b[1;33m             \u001b[1;32mreturn\u001b[0m \u001b[0mself\u001b[0m\u001b[1;33m.\u001b[0m\u001b[0m_get_item_cache\u001b[0m\u001b[1;33m(\u001b[0m\u001b[0mkey\u001b[0m\u001b[1;33m)\u001b[0m\u001b[1;33m\u001b[0m\u001b[0m\n\u001b[0m\u001b[0;32m   1805\u001b[0m \u001b[1;33m\u001b[0m\u001b[0m\n\u001b[0;32m   1806\u001b[0m         \u001b[1;31m# duplicate columns & possible reduce dimensionaility\u001b[0m\u001b[1;33m\u001b[0m\u001b[1;33m\u001b[0m\u001b[0m\n",
      "\u001b[1;32mC:\\Users\\fmarco\\Anaconda3\\lib\\site-packages\\pandas\\core\\generic.py\u001b[0m in \u001b[0;36m_get_item_cache\u001b[1;34m(self, item)\u001b[0m\n\u001b[0;32m   1082\u001b[0m         \u001b[0mres\u001b[0m \u001b[1;33m=\u001b[0m \u001b[0mcache\u001b[0m\u001b[1;33m.\u001b[0m\u001b[0mget\u001b[0m\u001b[1;33m(\u001b[0m\u001b[0mitem\u001b[0m\u001b[1;33m)\u001b[0m\u001b[1;33m\u001b[0m\u001b[0m\n\u001b[0;32m   1083\u001b[0m         \u001b[1;32mif\u001b[0m \u001b[0mres\u001b[0m \u001b[1;32mis\u001b[0m \u001b[1;32mNone\u001b[0m\u001b[1;33m:\u001b[0m\u001b[1;33m\u001b[0m\u001b[0m\n\u001b[1;32m-> 1084\u001b[1;33m             \u001b[0mvalues\u001b[0m \u001b[1;33m=\u001b[0m \u001b[0mself\u001b[0m\u001b[1;33m.\u001b[0m\u001b[0m_data\u001b[0m\u001b[1;33m.\u001b[0m\u001b[0mget\u001b[0m\u001b[1;33m(\u001b[0m\u001b[0mitem\u001b[0m\u001b[1;33m)\u001b[0m\u001b[1;33m\u001b[0m\u001b[0m\n\u001b[0m\u001b[0;32m   1085\u001b[0m             \u001b[0mres\u001b[0m \u001b[1;33m=\u001b[0m \u001b[0mself\u001b[0m\u001b[1;33m.\u001b[0m\u001b[0m_box_item_values\u001b[0m\u001b[1;33m(\u001b[0m\u001b[0mitem\u001b[0m\u001b[1;33m,\u001b[0m \u001b[0mvalues\u001b[0m\u001b[1;33m)\u001b[0m\u001b[1;33m\u001b[0m\u001b[0m\n\u001b[0;32m   1086\u001b[0m             \u001b[0mcache\u001b[0m\u001b[1;33m[\u001b[0m\u001b[0mitem\u001b[0m\u001b[1;33m]\u001b[0m \u001b[1;33m=\u001b[0m \u001b[0mres\u001b[0m\u001b[1;33m\u001b[0m\u001b[0m\n",
      "\u001b[1;32mC:\\Users\\fmarco\\Anaconda3\\lib\\site-packages\\pandas\\core\\internals.py\u001b[0m in \u001b[0;36mget\u001b[1;34m(self, item, fastpath)\u001b[0m\n\u001b[0;32m   2849\u001b[0m \u001b[1;33m\u001b[0m\u001b[0m\n\u001b[0;32m   2850\u001b[0m             \u001b[1;32mif\u001b[0m \u001b[1;32mnot\u001b[0m \u001b[0misnull\u001b[0m\u001b[1;33m(\u001b[0m\u001b[0mitem\u001b[0m\u001b[1;33m)\u001b[0m\u001b[1;33m:\u001b[0m\u001b[1;33m\u001b[0m\u001b[0m\n\u001b[1;32m-> 2851\u001b[1;33m                 \u001b[0mloc\u001b[0m \u001b[1;33m=\u001b[0m \u001b[0mself\u001b[0m\u001b[1;33m.\u001b[0m\u001b[0mitems\u001b[0m\u001b[1;33m.\u001b[0m\u001b[0mget_loc\u001b[0m\u001b[1;33m(\u001b[0m\u001b[0mitem\u001b[0m\u001b[1;33m)\u001b[0m\u001b[1;33m\u001b[0m\u001b[0m\n\u001b[0m\u001b[0;32m   2852\u001b[0m             \u001b[1;32melse\u001b[0m\u001b[1;33m:\u001b[0m\u001b[1;33m\u001b[0m\u001b[0m\n\u001b[0;32m   2853\u001b[0m                 \u001b[0mindexer\u001b[0m \u001b[1;33m=\u001b[0m \u001b[0mnp\u001b[0m\u001b[1;33m.\u001b[0m\u001b[0marange\u001b[0m\u001b[1;33m(\u001b[0m\u001b[0mlen\u001b[0m\u001b[1;33m(\u001b[0m\u001b[0mself\u001b[0m\u001b[1;33m.\u001b[0m\u001b[0mitems\u001b[0m\u001b[1;33m)\u001b[0m\u001b[1;33m)\u001b[0m\u001b[1;33m[\u001b[0m\u001b[0misnull\u001b[0m\u001b[1;33m(\u001b[0m\u001b[0mself\u001b[0m\u001b[1;33m.\u001b[0m\u001b[0mitems\u001b[0m\u001b[1;33m)\u001b[0m\u001b[1;33m]\u001b[0m\u001b[1;33m\u001b[0m\u001b[0m\n",
      "\u001b[1;32mC:\\Users\\fmarco\\Anaconda3\\lib\\site-packages\\pandas\\core\\index.py\u001b[0m in \u001b[0;36mget_loc\u001b[1;34m(self, key, method)\u001b[0m\n\u001b[0;32m   1570\u001b[0m         \"\"\"\n\u001b[0;32m   1571\u001b[0m         \u001b[1;32mif\u001b[0m \u001b[0mmethod\u001b[0m \u001b[1;32mis\u001b[0m \u001b[1;32mNone\u001b[0m\u001b[1;33m:\u001b[0m\u001b[1;33m\u001b[0m\u001b[0m\n\u001b[1;32m-> 1572\u001b[1;33m             \u001b[1;32mreturn\u001b[0m \u001b[0mself\u001b[0m\u001b[1;33m.\u001b[0m\u001b[0m_engine\u001b[0m\u001b[1;33m.\u001b[0m\u001b[0mget_loc\u001b[0m\u001b[1;33m(\u001b[0m\u001b[0m_values_from_object\u001b[0m\u001b[1;33m(\u001b[0m\u001b[0mkey\u001b[0m\u001b[1;33m)\u001b[0m\u001b[1;33m)\u001b[0m\u001b[1;33m\u001b[0m\u001b[0m\n\u001b[0m\u001b[0;32m   1573\u001b[0m \u001b[1;33m\u001b[0m\u001b[0m\n\u001b[0;32m   1574\u001b[0m         \u001b[0mindexer\u001b[0m \u001b[1;33m=\u001b[0m \u001b[0mself\u001b[0m\u001b[1;33m.\u001b[0m\u001b[0mget_indexer\u001b[0m\u001b[1;33m(\u001b[0m\u001b[1;33m[\u001b[0m\u001b[0mkey\u001b[0m\u001b[1;33m]\u001b[0m\u001b[1;33m,\u001b[0m \u001b[0mmethod\u001b[0m\u001b[1;33m=\u001b[0m\u001b[0mmethod\u001b[0m\u001b[1;33m)\u001b[0m\u001b[1;33m\u001b[0m\u001b[0m\n",
      "\u001b[1;32mpandas\\index.pyx\u001b[0m in \u001b[0;36mpandas.index.IndexEngine.get_loc (pandas\\index.c:3824)\u001b[1;34m()\u001b[0m\n",
      "\u001b[1;32mpandas\\index.pyx\u001b[0m in \u001b[0;36mpandas.index.IndexEngine.get_loc (pandas\\index.c:3704)\u001b[1;34m()\u001b[0m\n",
      "\u001b[1;32mpandas\\hashtable.pyx\u001b[0m in \u001b[0;36mpandas.hashtable.PyObjectHashTable.get_item (pandas\\hashtable.c:12280)\u001b[1;34m()\u001b[0m\n",
      "\u001b[1;32mpandas\\hashtable.pyx\u001b[0m in \u001b[0;36mpandas.hashtable.PyObjectHashTable.get_item (pandas\\hashtable.c:12231)\u001b[1;34m()\u001b[0m\n",
      "\u001b[1;31mKeyError\u001b[0m: 'WindDirDegrees<br />'"
     ]
    }
   ],
   "source": [
    "london['WindDirDegrees<br />'].head()"
   ]
  },
  {
   "cell_type": "markdown",
   "metadata": {},
   "source": [
    "<code>'WindDirDegrees&lt; br /&gt;'</code> can be changed to <code>'WindDirDegrees'</code> with the <code>rename()</code> method as follows:"
   ]
  },
  {
   "cell_type": "code",
   "execution_count": null,
   "metadata": {
    "collapsed": false
   },
   "outputs": [],
   "source": [
    "london = london.rename(columns={'WindDirDegrees<br />' : 'WindDirDegrees'})"
   ]
  },
  {
   "cell_type": "markdown",
   "metadata": {},
   "source": [
    "To remove the <code>'&lt; br /&gt;'</code> html line breaks from the values in the <code>'WindDirDegrees'</code> column you need to use the string method <code>rstrip()</code> which is used to remove characters from the *end* or 'rear' of a string:"
   ]
  },
  {
   "cell_type": "code",
   "execution_count": null,
   "metadata": {
    "collapsed": false
   },
   "outputs": [],
   "source": [
    "london['WindDirDegrees'] = london['WindDirDegrees'].str.rstrip('<br />')"
   ]
  },
  {
   "cell_type": "markdown",
   "metadata": {},
   "source": [
    "Display the first few rows of the <code>'WindDirDegrees'</code> to confirm the change:"
   ]
  },
  {
   "cell_type": "code",
   "execution_count": null,
   "metadata": {
    "collapsed": false
   },
   "outputs": [],
   "source": [
    "london['WindDirDegrees'].head()"
   ]
  },
  {
   "cell_type": "markdown",
   "metadata": {},
   "source": [
    "### Missing values\n",
    "\n",
    "Missing (also called null or not available) values are marked as NaN (not a number) in dataframes."
   ]
  },
  {
   "cell_type": "code",
   "execution_count": null,
   "metadata": {
    "collapsed": false
   },
   "outputs": [],
   "source": [
    "london['Eventos'].tail()"
   ]
  },
  {
   "cell_type": "markdown",
   "metadata": {},
   "source": [
    "The `isnull()` method returns `True` for each row in a column that has a null value. The method can be used to select and display those rows. Scroll the table below to the right to check that the events column is only showing missing values."
   ]
  },
  {
   "cell_type": "code",
   "execution_count": null,
   "metadata": {
    "collapsed": false
   },
   "outputs": [],
   "source": [
    "london[london['Eventos'].isnull()]"
   ]
  },
  {
   "cell_type": "markdown",
   "metadata": {},
   "source": [
    "One way to deal with missing values is to replace them by some value. The column method `fillna()` fills all not available value cells with the value given as argument. In the example below, each missing event is replaced by the empty string."
   ]
  },
  {
   "cell_type": "code",
   "execution_count": null,
   "metadata": {
    "collapsed": false,
    "scrolled": true
   },
   "outputs": [],
   "source": [
    "london['Eventos'] = london['Eventos'].fillna('')\n",
    "london[london['Eventos'].isnull()]"
   ]
  },
  {
   "cell_type": "markdown",
   "metadata": {},
   "source": [
    "The empty dataframe (no rows) confirms there are no more missing event values.\n",
    "\n",
    "Another way to deal with missing values is to ignore rows with them. The `dropna()` dataframe method returns a new dataframe where all rows with at least one non-available value have been removed."
   ]
  },
  {
   "cell_type": "code",
   "execution_count": null,
   "metadata": {
    "collapsed": false,
    "scrolled": true
   },
   "outputs": [],
   "source": [
    "london.dropna()"
   ]
  },
  {
   "cell_type": "markdown",
   "metadata": {},
   "source": [
    "Note that the table above has fewer than 251 of the original 365 rows, so there must be further null values besides the 114 missing events."
   ]
  },
  {
   "cell_type": "markdown",
   "metadata": {},
   "source": [
    "### Changing the value type of a column"
   ]
  },
  {
   "cell_type": "markdown",
   "metadata": {},
   "source": [
    "The type of every column in a dataframe can be determined by looking at the dataframe's `dtypes` attribute, like this:"
   ]
  },
  {
   "cell_type": "code",
   "execution_count": 52,
   "metadata": {
    "collapsed": false,
    "scrolled": true
   },
   "outputs": [
    {
     "data": {
      "text/plain": [
       "GMT                                  object\n",
       "Temperatura máximaC                   int64\n",
       "Temperatura mediaC                    int64\n",
       "Temperatura mínimaC                   int64\n",
       "Punto de rocíoC                       int64\n",
       "MeanDew PointC                        int64\n",
       "Min DewpointC                         int64\n",
       "Max Humedad                           int64\n",
       "Mean Humedad                          int64\n",
       "Min Humedad                           int64\n",
       "Max Presión al nivel del marhPa       int64\n",
       "Mean Presión al nivel del marhPa      int64\n",
       "Min Presión al nivel del marhPa       int64\n",
       "Max VisibilidadKm                     int64\n",
       "Mean VisibilidadKm                    int64\n",
       "Min VisibilidadkM                     int64\n",
       "Max Velocidad del vientoKm/h          int64\n",
       "Mean Velocidad del vientoKm/h         int64\n",
       "Max Velocidad de ráfagasKm/h        float64\n",
       "Precipitaciónmm                     float64\n",
       "CloudCover                          float64\n",
       "Eventos                              object\n",
       "WindDirDegrees                        int64\n",
       "dtype: object"
      ]
     },
     "execution_count": 52,
     "metadata": {},
     "output_type": "execute_result"
    }
   ],
   "source": [
    "london.dtypes"
   ]
  },
  {
   "cell_type": "markdown",
   "metadata": {},
   "source": [
    "The type of all the values in a column can be changed using the <code>astype()</code> method. The following code will change the values in the <code>'WindDirDegrees'</code> column from strings (`object`) to integers (<code>int64</code>)."
   ]
  },
  {
   "cell_type": "code",
   "execution_count": 53,
   "metadata": {
    "collapsed": false
   },
   "outputs": [],
   "source": [
    "london['WindDirDegrees'] = london['WindDirDegrees'].astype('int64')   "
   ]
  },
  {
   "cell_type": "markdown",
   "metadata": {},
   "source": [
    "The function `to_datetime()` is needed to change the values in the `'GMT'` column from strings (`object`) to dates (`datetime64`):"
   ]
  },
  {
   "cell_type": "code",
   "execution_count": 54,
   "metadata": {
    "collapsed": false
   },
   "outputs": [
    {
     "data": {
      "text/plain": [
       "GMT                                 datetime64[ns]\n",
       "Temperatura máximaC                          int64\n",
       "Temperatura mediaC                           int64\n",
       "Temperatura mínimaC                          int64\n",
       "Punto de rocíoC                              int64\n",
       "MeanDew PointC                               int64\n",
       "Min DewpointC                                int64\n",
       "Max Humedad                                  int64\n",
       "Mean Humedad                                 int64\n",
       "Min Humedad                                  int64\n",
       "Max Presión al nivel del marhPa              int64\n",
       "Mean Presión al nivel del marhPa             int64\n",
       "Min Presión al nivel del marhPa              int64\n",
       "Max VisibilidadKm                            int64\n",
       "Mean VisibilidadKm                           int64\n",
       "Min VisibilidadkM                            int64\n",
       "Max Velocidad del vientoKm/h                 int64\n",
       "Mean Velocidad del vientoKm/h                int64\n",
       "Max Velocidad de ráfagasKm/h               float64\n",
       "Precipitaciónmm                            float64\n",
       "CloudCover                                 float64\n",
       "Eventos                                     object\n",
       "WindDirDegrees                               int64\n",
       "dtype: object"
      ]
     },
     "execution_count": 54,
     "metadata": {},
     "output_type": "execute_result"
    }
   ],
   "source": [
    "london['GMT'] = to_datetime(london['GMT'])\n",
    "london.dtypes"
   ]
  },
  {
   "cell_type": "markdown",
   "metadata": {
    "collapsed": false
   },
   "source": [
    "Values of type `datetime64` can be created using the `datetime()` function where the first integer argument is the year, the second the month and the third the day. \n",
    "The code below will get and display the row in the dataframe whose `'GMT'` value is 4th June 2014."
   ]
  },
  {
   "cell_type": "code",
   "execution_count": null,
   "metadata": {
    "collapsed": false
   },
   "outputs": [],
   "source": [
    "london[london['GMT'] == datetime(2014, 6, 4)] "
   ]
  },
  {
   "cell_type": "markdown",
   "metadata": {},
   "source": [
    "Queries such as 'Return all the rows where the date is between 8 December and 12 December' can be made:"
   ]
  },
  {
   "cell_type": "code",
   "execution_count": null,
   "metadata": {
    "collapsed": false
   },
   "outputs": [],
   "source": [
    "dates = london['GMT']\n",
    "start = datetime(2014, 12, 8)\n",
    "end = datetime(2014, 12, 12)\n",
    "london[(dates >= start) & (dates <= end)]"
   ]
  },
  {
   "cell_type": "markdown",
   "metadata": {},
   "source": [
    "###Tasks\n",
    "\n",
    "Now that the wind direction is given by a number, write code to select all days that had a northerly wind. Hint: select the rows where the direction is greater or equal than 350 **or** smaller or equal than 10, as the compass rose shows."
   ]
  },
  {
   "cell_type": "code",
   "execution_count": 61,
   "metadata": {
    "collapsed": false
   },
   "outputs": [
    {
     "data": {
      "text/html": [
       "<div>\n",
       "<table border=\"1\" class=\"dataframe\">\n",
       "  <thead>\n",
       "    <tr style=\"text-align: right;\">\n",
       "      <th></th>\n",
       "      <th>GMT</th>\n",
       "      <th>Temperatura máximaC</th>\n",
       "      <th>Temperatura mediaC</th>\n",
       "      <th>Temperatura mínimaC</th>\n",
       "      <th>Punto de rocíoC</th>\n",
       "      <th>MeanDew PointC</th>\n",
       "      <th>Min DewpointC</th>\n",
       "      <th>Max Humedad</th>\n",
       "      <th>Mean Humedad</th>\n",
       "      <th>Min Humedad</th>\n",
       "      <th>...</th>\n",
       "      <th>Max VisibilidadKm</th>\n",
       "      <th>Mean VisibilidadKm</th>\n",
       "      <th>Min VisibilidadkM</th>\n",
       "      <th>Max Velocidad del vientoKm/h</th>\n",
       "      <th>Mean Velocidad del vientoKm/h</th>\n",
       "      <th>Max Velocidad de ráfagasKm/h</th>\n",
       "      <th>Precipitaciónmm</th>\n",
       "      <th>CloudCover</th>\n",
       "      <th>Eventos</th>\n",
       "      <th>WindDirDegrees</th>\n",
       "    </tr>\n",
       "  </thead>\n",
       "  <tbody>\n",
       "    <tr>\n",
       "      <th>84</th>\n",
       "      <td>2014-03-26</td>\n",
       "      <td>9</td>\n",
       "      <td>6</td>\n",
       "      <td>2</td>\n",
       "      <td>4</td>\n",
       "      <td>2</td>\n",
       "      <td>-1</td>\n",
       "      <td>100</td>\n",
       "      <td>80</td>\n",
       "      <td>39</td>\n",
       "      <td>...</td>\n",
       "      <td>27</td>\n",
       "      <td>10</td>\n",
       "      <td>1</td>\n",
       "      <td>26</td>\n",
       "      <td>10</td>\n",
       "      <td>NaN</td>\n",
       "      <td>2.03</td>\n",
       "      <td>4</td>\n",
       "      <td>Niebla-Lluvia</td>\n",
       "      <td>3</td>\n",
       "    </tr>\n",
       "    <tr>\n",
       "      <th>90</th>\n",
       "      <td>2014-04-01</td>\n",
       "      <td>19</td>\n",
       "      <td>13</td>\n",
       "      <td>7</td>\n",
       "      <td>11</td>\n",
       "      <td>9</td>\n",
       "      <td>6</td>\n",
       "      <td>100</td>\n",
       "      <td>80</td>\n",
       "      <td>39</td>\n",
       "      <td>...</td>\n",
       "      <td>19</td>\n",
       "      <td>7</td>\n",
       "      <td>0</td>\n",
       "      <td>16</td>\n",
       "      <td>5</td>\n",
       "      <td>NaN</td>\n",
       "      <td>0.00</td>\n",
       "      <td>4</td>\n",
       "      <td>Niebla-Lluvia</td>\n",
       "      <td>6</td>\n",
       "    </tr>\n",
       "    <tr>\n",
       "      <th>100</th>\n",
       "      <td>2014-04-11</td>\n",
       "      <td>16</td>\n",
       "      <td>12</td>\n",
       "      <td>9</td>\n",
       "      <td>5</td>\n",
       "      <td>4</td>\n",
       "      <td>2</td>\n",
       "      <td>71</td>\n",
       "      <td>53</td>\n",
       "      <td>28</td>\n",
       "      <td>...</td>\n",
       "      <td>31</td>\n",
       "      <td>18</td>\n",
       "      <td>10</td>\n",
       "      <td>13</td>\n",
       "      <td>8</td>\n",
       "      <td>NaN</td>\n",
       "      <td>0.00</td>\n",
       "      <td>1</td>\n",
       "      <td>NaN</td>\n",
       "      <td>351</td>\n",
       "    </tr>\n",
       "    <tr>\n",
       "      <th>110</th>\n",
       "      <td>2014-04-21</td>\n",
       "      <td>19</td>\n",
       "      <td>12</td>\n",
       "      <td>5</td>\n",
       "      <td>11</td>\n",
       "      <td>8</td>\n",
       "      <td>4</td>\n",
       "      <td>100</td>\n",
       "      <td>78</td>\n",
       "      <td>31</td>\n",
       "      <td>...</td>\n",
       "      <td>26</td>\n",
       "      <td>7</td>\n",
       "      <td>0</td>\n",
       "      <td>14</td>\n",
       "      <td>6</td>\n",
       "      <td>NaN</td>\n",
       "      <td>9.91</td>\n",
       "      <td>3</td>\n",
       "      <td>Niebla-Lluvia-Tormenta</td>\n",
       "      <td>356</td>\n",
       "    </tr>\n",
       "    <tr>\n",
       "      <th>174</th>\n",
       "      <td>2014-06-24</td>\n",
       "      <td>24</td>\n",
       "      <td>19</td>\n",
       "      <td>13</td>\n",
       "      <td>15</td>\n",
       "      <td>12</td>\n",
       "      <td>9</td>\n",
       "      <td>94</td>\n",
       "      <td>66</td>\n",
       "      <td>27</td>\n",
       "      <td>...</td>\n",
       "      <td>31</td>\n",
       "      <td>12</td>\n",
       "      <td>0</td>\n",
       "      <td>23</td>\n",
       "      <td>8</td>\n",
       "      <td>37</td>\n",
       "      <td>0.00</td>\n",
       "      <td>3</td>\n",
       "      <td>Niebla</td>\n",
       "      <td>350</td>\n",
       "    </tr>\n",
       "    <tr>\n",
       "      <th>179</th>\n",
       "      <td>2014-06-29</td>\n",
       "      <td>19</td>\n",
       "      <td>16</td>\n",
       "      <td>12</td>\n",
       "      <td>11</td>\n",
       "      <td>9</td>\n",
       "      <td>5</td>\n",
       "      <td>88</td>\n",
       "      <td>65</td>\n",
       "      <td>31</td>\n",
       "      <td>...</td>\n",
       "      <td>31</td>\n",
       "      <td>16</td>\n",
       "      <td>10</td>\n",
       "      <td>19</td>\n",
       "      <td>10</td>\n",
       "      <td>NaN</td>\n",
       "      <td>0.00</td>\n",
       "      <td>2</td>\n",
       "      <td>Lluvia</td>\n",
       "      <td>9</td>\n",
       "    </tr>\n",
       "    <tr>\n",
       "      <th>190</th>\n",
       "      <td>2014-07-10</td>\n",
       "      <td>22</td>\n",
       "      <td>18</td>\n",
       "      <td>14</td>\n",
       "      <td>13</td>\n",
       "      <td>11</td>\n",
       "      <td>9</td>\n",
       "      <td>82</td>\n",
       "      <td>64</td>\n",
       "      <td>44</td>\n",
       "      <td>...</td>\n",
       "      <td>31</td>\n",
       "      <td>19</td>\n",
       "      <td>10</td>\n",
       "      <td>16</td>\n",
       "      <td>14</td>\n",
       "      <td>NaN</td>\n",
       "      <td>0.00</td>\n",
       "      <td>3</td>\n",
       "      <td>NaN</td>\n",
       "      <td>1</td>\n",
       "    </tr>\n",
       "    <tr>\n",
       "      <th>208</th>\n",
       "      <td>2014-07-28</td>\n",
       "      <td>23</td>\n",
       "      <td>19</td>\n",
       "      <td>14</td>\n",
       "      <td>16</td>\n",
       "      <td>12</td>\n",
       "      <td>9</td>\n",
       "      <td>94</td>\n",
       "      <td>66</td>\n",
       "      <td>33</td>\n",
       "      <td>...</td>\n",
       "      <td>26</td>\n",
       "      <td>12</td>\n",
       "      <td>2</td>\n",
       "      <td>21</td>\n",
       "      <td>10</td>\n",
       "      <td>NaN</td>\n",
       "      <td>17.02</td>\n",
       "      <td>2</td>\n",
       "      <td>Lluvia-Tormenta</td>\n",
       "      <td>3</td>\n",
       "    </tr>\n",
       "    <tr>\n",
       "      <th>249</th>\n",
       "      <td>2014-09-07</td>\n",
       "      <td>21</td>\n",
       "      <td>17</td>\n",
       "      <td>13</td>\n",
       "      <td>14</td>\n",
       "      <td>12</td>\n",
       "      <td>8</td>\n",
       "      <td>94</td>\n",
       "      <td>71</td>\n",
       "      <td>41</td>\n",
       "      <td>...</td>\n",
       "      <td>23</td>\n",
       "      <td>10</td>\n",
       "      <td>2</td>\n",
       "      <td>11</td>\n",
       "      <td>6</td>\n",
       "      <td>NaN</td>\n",
       "      <td>0.00</td>\n",
       "      <td>4</td>\n",
       "      <td>NaN</td>\n",
       "      <td>354</td>\n",
       "    </tr>\n",
       "    <tr>\n",
       "      <th>250</th>\n",
       "      <td>2014-09-08</td>\n",
       "      <td>22</td>\n",
       "      <td>16</td>\n",
       "      <td>10</td>\n",
       "      <td>13</td>\n",
       "      <td>9</td>\n",
       "      <td>7</td>\n",
       "      <td>94</td>\n",
       "      <td>64</td>\n",
       "      <td>28</td>\n",
       "      <td>...</td>\n",
       "      <td>27</td>\n",
       "      <td>12</td>\n",
       "      <td>5</td>\n",
       "      <td>11</td>\n",
       "      <td>6</td>\n",
       "      <td>NaN</td>\n",
       "      <td>0.00</td>\n",
       "      <td>1</td>\n",
       "      <td>NaN</td>\n",
       "      <td>351</td>\n",
       "    </tr>\n",
       "    <tr>\n",
       "      <th>335</th>\n",
       "      <td>2014-12-02</td>\n",
       "      <td>8</td>\n",
       "      <td>7</td>\n",
       "      <td>6</td>\n",
       "      <td>7</td>\n",
       "      <td>4</td>\n",
       "      <td>2</td>\n",
       "      <td>100</td>\n",
       "      <td>80</td>\n",
       "      <td>62</td>\n",
       "      <td>...</td>\n",
       "      <td>31</td>\n",
       "      <td>11</td>\n",
       "      <td>1</td>\n",
       "      <td>27</td>\n",
       "      <td>13</td>\n",
       "      <td>NaN</td>\n",
       "      <td>1.02</td>\n",
       "      <td>5</td>\n",
       "      <td>Lluvia</td>\n",
       "      <td>359</td>\n",
       "    </tr>\n",
       "    <tr>\n",
       "      <th>361</th>\n",
       "      <td>2014-12-28</td>\n",
       "      <td>6</td>\n",
       "      <td>2</td>\n",
       "      <td>-2</td>\n",
       "      <td>1</td>\n",
       "      <td>-2</td>\n",
       "      <td>-3</td>\n",
       "      <td>100</td>\n",
       "      <td>76</td>\n",
       "      <td>45</td>\n",
       "      <td>...</td>\n",
       "      <td>31</td>\n",
       "      <td>17</td>\n",
       "      <td>8</td>\n",
       "      <td>16</td>\n",
       "      <td>11</td>\n",
       "      <td>NaN</td>\n",
       "      <td>0.00</td>\n",
       "      <td>1</td>\n",
       "      <td>NaN</td>\n",
       "      <td>5</td>\n",
       "    </tr>\n",
       "  </tbody>\n",
       "</table>\n",
       "<p>12 rows × 23 columns</p>\n",
       "</div>"
      ],
      "text/plain": [
       "           GMT  Temperatura máximaC  Temperatura mediaC  Temperatura mínimaC  \\\n",
       "84  2014-03-26                    9                   6                    2   \n",
       "90  2014-04-01                   19                  13                    7   \n",
       "100 2014-04-11                   16                  12                    9   \n",
       "110 2014-04-21                   19                  12                    5   \n",
       "174 2014-06-24                   24                  19                   13   \n",
       "179 2014-06-29                   19                  16                   12   \n",
       "190 2014-07-10                   22                  18                   14   \n",
       "208 2014-07-28                   23                  19                   14   \n",
       "249 2014-09-07                   21                  17                   13   \n",
       "250 2014-09-08                   22                  16                   10   \n",
       "335 2014-12-02                    8                   7                    6   \n",
       "361 2014-12-28                    6                   2                   -2   \n",
       "\n",
       "     Punto de rocíoC  MeanDew PointC  Min DewpointC  Max Humedad  \\\n",
       "84                 4               2             -1          100   \n",
       "90                11               9              6          100   \n",
       "100                5               4              2           71   \n",
       "110               11               8              4          100   \n",
       "174               15              12              9           94   \n",
       "179               11               9              5           88   \n",
       "190               13              11              9           82   \n",
       "208               16              12              9           94   \n",
       "249               14              12              8           94   \n",
       "250               13               9              7           94   \n",
       "335                7               4              2          100   \n",
       "361                1              -2             -3          100   \n",
       "\n",
       "     Mean Humedad  Min Humedad       ...        Max VisibilidadKm  \\\n",
       "84             80           39       ...                       27   \n",
       "90             80           39       ...                       19   \n",
       "100            53           28       ...                       31   \n",
       "110            78           31       ...                       26   \n",
       "174            66           27       ...                       31   \n",
       "179            65           31       ...                       31   \n",
       "190            64           44       ...                       31   \n",
       "208            66           33       ...                       26   \n",
       "249            71           41       ...                       23   \n",
       "250            64           28       ...                       27   \n",
       "335            80           62       ...                       31   \n",
       "361            76           45       ...                       31   \n",
       "\n",
       "     Mean VisibilidadKm  Min VisibilidadkM  Max Velocidad del vientoKm/h  \\\n",
       "84                   10                  1                            26   \n",
       "90                    7                  0                            16   \n",
       "100                  18                 10                            13   \n",
       "110                   7                  0                            14   \n",
       "174                  12                  0                            23   \n",
       "179                  16                 10                            19   \n",
       "190                  19                 10                            16   \n",
       "208                  12                  2                            21   \n",
       "249                  10                  2                            11   \n",
       "250                  12                  5                            11   \n",
       "335                  11                  1                            27   \n",
       "361                  17                  8                            16   \n",
       "\n",
       "     Mean Velocidad del vientoKm/h  Max Velocidad de ráfagasKm/h  \\\n",
       "84                              10                           NaN   \n",
       "90                               5                           NaN   \n",
       "100                              8                           NaN   \n",
       "110                              6                           NaN   \n",
       "174                              8                            37   \n",
       "179                             10                           NaN   \n",
       "190                             14                           NaN   \n",
       "208                             10                           NaN   \n",
       "249                              6                           NaN   \n",
       "250                              6                           NaN   \n",
       "335                             13                           NaN   \n",
       "361                             11                           NaN   \n",
       "\n",
       "     Precipitaciónmm  CloudCover                 Eventos  WindDirDegrees  \n",
       "84              2.03           4           Niebla-Lluvia               3  \n",
       "90              0.00           4           Niebla-Lluvia               6  \n",
       "100             0.00           1                     NaN             351  \n",
       "110             9.91           3  Niebla-Lluvia-Tormenta             356  \n",
       "174             0.00           3                  Niebla             350  \n",
       "179             0.00           2                  Lluvia               9  \n",
       "190             0.00           3                     NaN               1  \n",
       "208            17.02           2         Lluvia-Tormenta               3  \n",
       "249             0.00           4                     NaN             354  \n",
       "250             0.00           1                     NaN             351  \n",
       "335             1.02           5                  Lluvia             359  \n",
       "361             0.00           1                     NaN               5  \n",
       "\n",
       "[12 rows x 23 columns]"
      ]
     },
     "execution_count": 61,
     "metadata": {},
     "output_type": "execute_result"
    }
   ],
   "source": [
    "london[(london['WindDirDegrees']>=350)|(london['WindDirDegrees']<=10)]"
   ]
  },
  {
   "cell_type": "markdown",
   "metadata": {},
   "source": [
    "In the code cell below, write code to get and display all the rows in the dataframe that are beween 1 April 2014 and \n",
    "11 April 2014."
   ]
  },
  {
   "cell_type": "code",
   "execution_count": 66,
   "metadata": {
    "collapsed": false
   },
   "outputs": [
    {
     "data": {
      "text/html": [
       "<div>\n",
       "<table border=\"1\" class=\"dataframe\">\n",
       "  <thead>\n",
       "    <tr style=\"text-align: right;\">\n",
       "      <th></th>\n",
       "      <th>GMT</th>\n",
       "      <th>Temperatura máximaC</th>\n",
       "      <th>Temperatura mediaC</th>\n",
       "      <th>Temperatura mínimaC</th>\n",
       "      <th>Punto de rocíoC</th>\n",
       "      <th>MeanDew PointC</th>\n",
       "      <th>Min DewpointC</th>\n",
       "      <th>Max Humedad</th>\n",
       "      <th>Mean Humedad</th>\n",
       "      <th>Min Humedad</th>\n",
       "      <th>...</th>\n",
       "      <th>Max VisibilidadKm</th>\n",
       "      <th>Mean VisibilidadKm</th>\n",
       "      <th>Min VisibilidadkM</th>\n",
       "      <th>Max Velocidad del vientoKm/h</th>\n",
       "      <th>Mean Velocidad del vientoKm/h</th>\n",
       "      <th>Max Velocidad de ráfagasKm/h</th>\n",
       "      <th>Precipitaciónmm</th>\n",
       "      <th>CloudCover</th>\n",
       "      <th>Eventos</th>\n",
       "      <th>WindDirDegrees</th>\n",
       "    </tr>\n",
       "  </thead>\n",
       "  <tbody>\n",
       "    <tr>\n",
       "      <th>90</th>\n",
       "      <td>2014-04-01</td>\n",
       "      <td>19</td>\n",
       "      <td>13</td>\n",
       "      <td>7</td>\n",
       "      <td>11</td>\n",
       "      <td>9</td>\n",
       "      <td>6</td>\n",
       "      <td>100</td>\n",
       "      <td>80</td>\n",
       "      <td>39</td>\n",
       "      <td>...</td>\n",
       "      <td>19</td>\n",
       "      <td>7</td>\n",
       "      <td>0</td>\n",
       "      <td>16</td>\n",
       "      <td>5</td>\n",
       "      <td>NaN</td>\n",
       "      <td>0.00</td>\n",
       "      <td>4</td>\n",
       "      <td>Niebla-Lluvia</td>\n",
       "      <td>6</td>\n",
       "    </tr>\n",
       "    <tr>\n",
       "      <th>91</th>\n",
       "      <td>2014-04-02</td>\n",
       "      <td>18</td>\n",
       "      <td>14</td>\n",
       "      <td>11</td>\n",
       "      <td>11</td>\n",
       "      <td>9</td>\n",
       "      <td>7</td>\n",
       "      <td>88</td>\n",
       "      <td>71</td>\n",
       "      <td>48</td>\n",
       "      <td>...</td>\n",
       "      <td>10</td>\n",
       "      <td>8</td>\n",
       "      <td>5</td>\n",
       "      <td>23</td>\n",
       "      <td>13</td>\n",
       "      <td>NaN</td>\n",
       "      <td>0.00</td>\n",
       "      <td>1</td>\n",
       "      <td>Lluvia</td>\n",
       "      <td>85</td>\n",
       "    </tr>\n",
       "    <tr>\n",
       "      <th>92</th>\n",
       "      <td>2014-04-03</td>\n",
       "      <td>18</td>\n",
       "      <td>14</td>\n",
       "      <td>11</td>\n",
       "      <td>11</td>\n",
       "      <td>9</td>\n",
       "      <td>9</td>\n",
       "      <td>88</td>\n",
       "      <td>75</td>\n",
       "      <td>52</td>\n",
       "      <td>...</td>\n",
       "      <td>21</td>\n",
       "      <td>7</td>\n",
       "      <td>3</td>\n",
       "      <td>26</td>\n",
       "      <td>11</td>\n",
       "      <td>NaN</td>\n",
       "      <td>0.00</td>\n",
       "      <td>5</td>\n",
       "      <td>NaN</td>\n",
       "      <td>96</td>\n",
       "    </tr>\n",
       "    <tr>\n",
       "      <th>93</th>\n",
       "      <td>2014-04-04</td>\n",
       "      <td>15</td>\n",
       "      <td>12</td>\n",
       "      <td>9</td>\n",
       "      <td>10</td>\n",
       "      <td>8</td>\n",
       "      <td>6</td>\n",
       "      <td>88</td>\n",
       "      <td>71</td>\n",
       "      <td>46</td>\n",
       "      <td>...</td>\n",
       "      <td>31</td>\n",
       "      <td>11</td>\n",
       "      <td>2</td>\n",
       "      <td>24</td>\n",
       "      <td>14</td>\n",
       "      <td>NaN</td>\n",
       "      <td>0.00</td>\n",
       "      <td>5</td>\n",
       "      <td>NaN</td>\n",
       "      <td>253</td>\n",
       "    </tr>\n",
       "    <tr>\n",
       "      <th>94</th>\n",
       "      <td>2014-04-05</td>\n",
       "      <td>14</td>\n",
       "      <td>10</td>\n",
       "      <td>6</td>\n",
       "      <td>11</td>\n",
       "      <td>8</td>\n",
       "      <td>5</td>\n",
       "      <td>100</td>\n",
       "      <td>83</td>\n",
       "      <td>56</td>\n",
       "      <td>...</td>\n",
       "      <td>31</td>\n",
       "      <td>12</td>\n",
       "      <td>1</td>\n",
       "      <td>26</td>\n",
       "      <td>13</td>\n",
       "      <td>50</td>\n",
       "      <td>0.00</td>\n",
       "      <td>5</td>\n",
       "      <td>Niebla-Lluvia</td>\n",
       "      <td>197</td>\n",
       "    </tr>\n",
       "    <tr>\n",
       "      <th>95</th>\n",
       "      <td>2014-04-06</td>\n",
       "      <td>16</td>\n",
       "      <td>14</td>\n",
       "      <td>12</td>\n",
       "      <td>12</td>\n",
       "      <td>12</td>\n",
       "      <td>11</td>\n",
       "      <td>94</td>\n",
       "      <td>88</td>\n",
       "      <td>67</td>\n",
       "      <td>...</td>\n",
       "      <td>31</td>\n",
       "      <td>12</td>\n",
       "      <td>5</td>\n",
       "      <td>35</td>\n",
       "      <td>21</td>\n",
       "      <td>48</td>\n",
       "      <td>2.03</td>\n",
       "      <td>6</td>\n",
       "      <td>Lluvia</td>\n",
       "      <td>213</td>\n",
       "    </tr>\n",
       "    <tr>\n",
       "      <th>96</th>\n",
       "      <td>2014-04-07</td>\n",
       "      <td>14</td>\n",
       "      <td>11</td>\n",
       "      <td>8</td>\n",
       "      <td>12</td>\n",
       "      <td>11</td>\n",
       "      <td>6</td>\n",
       "      <td>94</td>\n",
       "      <td>87</td>\n",
       "      <td>76</td>\n",
       "      <td>...</td>\n",
       "      <td>31</td>\n",
       "      <td>14</td>\n",
       "      <td>5</td>\n",
       "      <td>29</td>\n",
       "      <td>23</td>\n",
       "      <td>42</td>\n",
       "      <td>2.03</td>\n",
       "      <td>5</td>\n",
       "      <td>Lluvia</td>\n",
       "      <td>209</td>\n",
       "    </tr>\n",
       "    <tr>\n",
       "      <th>97</th>\n",
       "      <td>2014-04-08</td>\n",
       "      <td>14</td>\n",
       "      <td>9</td>\n",
       "      <td>5</td>\n",
       "      <td>6</td>\n",
       "      <td>3</td>\n",
       "      <td>-1</td>\n",
       "      <td>87</td>\n",
       "      <td>64</td>\n",
       "      <td>26</td>\n",
       "      <td>...</td>\n",
       "      <td>31</td>\n",
       "      <td>15</td>\n",
       "      <td>10</td>\n",
       "      <td>39</td>\n",
       "      <td>23</td>\n",
       "      <td>NaN</td>\n",
       "      <td>0.00</td>\n",
       "      <td>2</td>\n",
       "      <td>Lluvia</td>\n",
       "      <td>269</td>\n",
       "    </tr>\n",
       "    <tr>\n",
       "      <th>98</th>\n",
       "      <td>2014-04-09</td>\n",
       "      <td>17</td>\n",
       "      <td>10</td>\n",
       "      <td>4</td>\n",
       "      <td>7</td>\n",
       "      <td>6</td>\n",
       "      <td>3</td>\n",
       "      <td>93</td>\n",
       "      <td>68</td>\n",
       "      <td>38</td>\n",
       "      <td>...</td>\n",
       "      <td>31</td>\n",
       "      <td>14</td>\n",
       "      <td>6</td>\n",
       "      <td>23</td>\n",
       "      <td>13</td>\n",
       "      <td>NaN</td>\n",
       "      <td>0.00</td>\n",
       "      <td>2</td>\n",
       "      <td>NaN</td>\n",
       "      <td>261</td>\n",
       "    </tr>\n",
       "    <tr>\n",
       "      <th>99</th>\n",
       "      <td>2014-04-10</td>\n",
       "      <td>16</td>\n",
       "      <td>11</td>\n",
       "      <td>6</td>\n",
       "      <td>6</td>\n",
       "      <td>5</td>\n",
       "      <td>3</td>\n",
       "      <td>93</td>\n",
       "      <td>62</td>\n",
       "      <td>31</td>\n",
       "      <td>...</td>\n",
       "      <td>31</td>\n",
       "      <td>14</td>\n",
       "      <td>9</td>\n",
       "      <td>19</td>\n",
       "      <td>10</td>\n",
       "      <td>NaN</td>\n",
       "      <td>0.00</td>\n",
       "      <td>3</td>\n",
       "      <td>NaN</td>\n",
       "      <td>278</td>\n",
       "    </tr>\n",
       "    <tr>\n",
       "      <th>100</th>\n",
       "      <td>2014-04-11</td>\n",
       "      <td>16</td>\n",
       "      <td>12</td>\n",
       "      <td>9</td>\n",
       "      <td>5</td>\n",
       "      <td>4</td>\n",
       "      <td>2</td>\n",
       "      <td>71</td>\n",
       "      <td>53</td>\n",
       "      <td>28</td>\n",
       "      <td>...</td>\n",
       "      <td>31</td>\n",
       "      <td>18</td>\n",
       "      <td>10</td>\n",
       "      <td>13</td>\n",
       "      <td>8</td>\n",
       "      <td>NaN</td>\n",
       "      <td>0.00</td>\n",
       "      <td>1</td>\n",
       "      <td>NaN</td>\n",
       "      <td>351</td>\n",
       "    </tr>\n",
       "  </tbody>\n",
       "</table>\n",
       "<p>11 rows × 23 columns</p>\n",
       "</div>"
      ],
      "text/plain": [
       "           GMT  Temperatura máximaC  Temperatura mediaC  Temperatura mínimaC  \\\n",
       "90  2014-04-01                   19                  13                    7   \n",
       "91  2014-04-02                   18                  14                   11   \n",
       "92  2014-04-03                   18                  14                   11   \n",
       "93  2014-04-04                   15                  12                    9   \n",
       "94  2014-04-05                   14                  10                    6   \n",
       "95  2014-04-06                   16                  14                   12   \n",
       "96  2014-04-07                   14                  11                    8   \n",
       "97  2014-04-08                   14                   9                    5   \n",
       "98  2014-04-09                   17                  10                    4   \n",
       "99  2014-04-10                   16                  11                    6   \n",
       "100 2014-04-11                   16                  12                    9   \n",
       "\n",
       "     Punto de rocíoC  MeanDew PointC  Min DewpointC  Max Humedad  \\\n",
       "90                11               9              6          100   \n",
       "91                11               9              7           88   \n",
       "92                11               9              9           88   \n",
       "93                10               8              6           88   \n",
       "94                11               8              5          100   \n",
       "95                12              12             11           94   \n",
       "96                12              11              6           94   \n",
       "97                 6               3             -1           87   \n",
       "98                 7               6              3           93   \n",
       "99                 6               5              3           93   \n",
       "100                5               4              2           71   \n",
       "\n",
       "     Mean Humedad  Min Humedad       ...        Max VisibilidadKm  \\\n",
       "90             80           39       ...                       19   \n",
       "91             71           48       ...                       10   \n",
       "92             75           52       ...                       21   \n",
       "93             71           46       ...                       31   \n",
       "94             83           56       ...                       31   \n",
       "95             88           67       ...                       31   \n",
       "96             87           76       ...                       31   \n",
       "97             64           26       ...                       31   \n",
       "98             68           38       ...                       31   \n",
       "99             62           31       ...                       31   \n",
       "100            53           28       ...                       31   \n",
       "\n",
       "     Mean VisibilidadKm  Min VisibilidadkM  Max Velocidad del vientoKm/h  \\\n",
       "90                    7                  0                            16   \n",
       "91                    8                  5                            23   \n",
       "92                    7                  3                            26   \n",
       "93                   11                  2                            24   \n",
       "94                   12                  1                            26   \n",
       "95                   12                  5                            35   \n",
       "96                   14                  5                            29   \n",
       "97                   15                 10                            39   \n",
       "98                   14                  6                            23   \n",
       "99                   14                  9                            19   \n",
       "100                  18                 10                            13   \n",
       "\n",
       "     Mean Velocidad del vientoKm/h  Max Velocidad de ráfagasKm/h  \\\n",
       "90                               5                           NaN   \n",
       "91                              13                           NaN   \n",
       "92                              11                           NaN   \n",
       "93                              14                           NaN   \n",
       "94                              13                            50   \n",
       "95                              21                            48   \n",
       "96                              23                            42   \n",
       "97                              23                           NaN   \n",
       "98                              13                           NaN   \n",
       "99                              10                           NaN   \n",
       "100                              8                           NaN   \n",
       "\n",
       "     Precipitaciónmm  CloudCover        Eventos  WindDirDegrees  \n",
       "90              0.00           4  Niebla-Lluvia               6  \n",
       "91              0.00           1         Lluvia              85  \n",
       "92              0.00           5            NaN              96  \n",
       "93              0.00           5            NaN             253  \n",
       "94              0.00           5  Niebla-Lluvia             197  \n",
       "95              2.03           6         Lluvia             213  \n",
       "96              2.03           5         Lluvia             209  \n",
       "97              0.00           2         Lluvia             269  \n",
       "98              0.00           2            NaN             261  \n",
       "99              0.00           3            NaN             278  \n",
       "100             0.00           1            NaN             351  \n",
       "\n",
       "[11 rows x 23 columns]"
      ]
     },
     "execution_count": 66,
     "metadata": {},
     "output_type": "execute_result"
    }
   ],
   "source": [
    "london[(london['GMT']>='2014-04-01') & (london['GMT']<='2014-04-11')]"
   ]
  },
  {
   "cell_type": "markdown",
   "metadata": {},
   "source": [
    "In the cell below, write two lines of code to display the first five rows that have a missing value in the `'Max Gust SpeedKm/h'` column. Hint: first select the missing value rows and store them in a new dataframe, then display the first five rows of the new dataframe."
   ]
  },
  {
   "cell_type": "code",
   "execution_count": 77,
   "metadata": {
    "collapsed": false
   },
   "outputs": [
    {
     "data": {
      "text/html": [
       "<div>\n",
       "<table border=\"1\" class=\"dataframe\">\n",
       "  <thead>\n",
       "    <tr style=\"text-align: right;\">\n",
       "      <th></th>\n",
       "      <th>GMT</th>\n",
       "      <th>Temperatura máximaC</th>\n",
       "      <th>Temperatura mediaC</th>\n",
       "      <th>Temperatura mínimaC</th>\n",
       "      <th>Punto de rocíoC</th>\n",
       "      <th>MeanDew PointC</th>\n",
       "      <th>Min DewpointC</th>\n",
       "      <th>Max Humedad</th>\n",
       "      <th>Mean Humedad</th>\n",
       "      <th>Min Humedad</th>\n",
       "      <th>...</th>\n",
       "      <th>Max VisibilidadKm</th>\n",
       "      <th>Mean VisibilidadKm</th>\n",
       "      <th>Min VisibilidadkM</th>\n",
       "      <th>Max Velocidad del vientoKm/h</th>\n",
       "      <th>Mean Velocidad del vientoKm/h</th>\n",
       "      <th>Max Velocidad de ráfagasKm/h</th>\n",
       "      <th>Precipitaciónmm</th>\n",
       "      <th>CloudCover</th>\n",
       "      <th>Eventos</th>\n",
       "      <th>WindDirDegrees</th>\n",
       "    </tr>\n",
       "  </thead>\n",
       "  <tbody>\n",
       "    <tr>\n",
       "      <th>4</th>\n",
       "      <td>2014-01-05</td>\n",
       "      <td>12</td>\n",
       "      <td>7</td>\n",
       "      <td>1</td>\n",
       "      <td>11</td>\n",
       "      <td>4</td>\n",
       "      <td>-1</td>\n",
       "      <td>100</td>\n",
       "      <td>88</td>\n",
       "      <td>77</td>\n",
       "      <td>...</td>\n",
       "      <td>31</td>\n",
       "      <td>14</td>\n",
       "      <td>5</td>\n",
       "      <td>35</td>\n",
       "      <td>16</td>\n",
       "      <td>NaN</td>\n",
       "      <td>0.25</td>\n",
       "      <td>5</td>\n",
       "      <td>Lluvia</td>\n",
       "      <td>199</td>\n",
       "    </tr>\n",
       "    <tr>\n",
       "      <th>10</th>\n",
       "      <td>2014-01-11</td>\n",
       "      <td>9</td>\n",
       "      <td>4</td>\n",
       "      <td>0</td>\n",
       "      <td>7</td>\n",
       "      <td>3</td>\n",
       "      <td>-1</td>\n",
       "      <td>100</td>\n",
       "      <td>80</td>\n",
       "      <td>51</td>\n",
       "      <td>...</td>\n",
       "      <td>31</td>\n",
       "      <td>12</td>\n",
       "      <td>6</td>\n",
       "      <td>24</td>\n",
       "      <td>14</td>\n",
       "      <td>NaN</td>\n",
       "      <td>0.00</td>\n",
       "      <td>4</td>\n",
       "      <td>Lluvia</td>\n",
       "      <td>259</td>\n",
       "    </tr>\n",
       "    <tr>\n",
       "      <th>11</th>\n",
       "      <td>2014-01-12</td>\n",
       "      <td>10</td>\n",
       "      <td>4</td>\n",
       "      <td>-2</td>\n",
       "      <td>9</td>\n",
       "      <td>3</td>\n",
       "      <td>-2</td>\n",
       "      <td>100</td>\n",
       "      <td>91</td>\n",
       "      <td>79</td>\n",
       "      <td>...</td>\n",
       "      <td>31</td>\n",
       "      <td>9</td>\n",
       "      <td>1</td>\n",
       "      <td>32</td>\n",
       "      <td>10</td>\n",
       "      <td>NaN</td>\n",
       "      <td>0.51</td>\n",
       "      <td>6</td>\n",
       "      <td>Niebla-Lluvia</td>\n",
       "      <td>126</td>\n",
       "    </tr>\n",
       "    <tr>\n",
       "      <th>12</th>\n",
       "      <td>2014-01-13</td>\n",
       "      <td>9</td>\n",
       "      <td>7</td>\n",
       "      <td>5</td>\n",
       "      <td>8</td>\n",
       "      <td>4</td>\n",
       "      <td>3</td>\n",
       "      <td>93</td>\n",
       "      <td>85</td>\n",
       "      <td>71</td>\n",
       "      <td>...</td>\n",
       "      <td>31</td>\n",
       "      <td>16</td>\n",
       "      <td>5</td>\n",
       "      <td>34</td>\n",
       "      <td>19</td>\n",
       "      <td>NaN</td>\n",
       "      <td>5.08</td>\n",
       "      <td>2</td>\n",
       "      <td>Lluvia</td>\n",
       "      <td>205</td>\n",
       "    </tr>\n",
       "    <tr>\n",
       "      <th>13</th>\n",
       "      <td>2014-01-14</td>\n",
       "      <td>7</td>\n",
       "      <td>4</td>\n",
       "      <td>1</td>\n",
       "      <td>5</td>\n",
       "      <td>2</td>\n",
       "      <td>0</td>\n",
       "      <td>100</td>\n",
       "      <td>82</td>\n",
       "      <td>55</td>\n",
       "      <td>...</td>\n",
       "      <td>31</td>\n",
       "      <td>15</td>\n",
       "      <td>10</td>\n",
       "      <td>21</td>\n",
       "      <td>13</td>\n",
       "      <td>NaN</td>\n",
       "      <td>0.25</td>\n",
       "      <td>3</td>\n",
       "      <td>Lluvia</td>\n",
       "      <td>242</td>\n",
       "    </tr>\n",
       "  </tbody>\n",
       "</table>\n",
       "<p>5 rows × 23 columns</p>\n",
       "</div>"
      ],
      "text/plain": [
       "          GMT  Temperatura máximaC  Temperatura mediaC  Temperatura mínimaC  \\\n",
       "4  2014-01-05                   12                   7                    1   \n",
       "10 2014-01-11                    9                   4                    0   \n",
       "11 2014-01-12                   10                   4                   -2   \n",
       "12 2014-01-13                    9                   7                    5   \n",
       "13 2014-01-14                    7                   4                    1   \n",
       "\n",
       "    Punto de rocíoC  MeanDew PointC  Min DewpointC  Max Humedad  Mean Humedad  \\\n",
       "4                11               4             -1          100            88   \n",
       "10                7               3             -1          100            80   \n",
       "11                9               3             -2          100            91   \n",
       "12                8               4              3           93            85   \n",
       "13                5               2              0          100            82   \n",
       "\n",
       "    Min Humedad       ...        Max VisibilidadKm  Mean VisibilidadKm  \\\n",
       "4            77       ...                       31                  14   \n",
       "10           51       ...                       31                  12   \n",
       "11           79       ...                       31                   9   \n",
       "12           71       ...                       31                  16   \n",
       "13           55       ...                       31                  15   \n",
       "\n",
       "    Min VisibilidadkM  Max Velocidad del vientoKm/h  \\\n",
       "4                   5                            35   \n",
       "10                  6                            24   \n",
       "11                  1                            32   \n",
       "12                  5                            34   \n",
       "13                 10                            21   \n",
       "\n",
       "    Mean Velocidad del vientoKm/h  Max Velocidad de ráfagasKm/h  \\\n",
       "4                              16                           NaN   \n",
       "10                             14                           NaN   \n",
       "11                             10                           NaN   \n",
       "12                             19                           NaN   \n",
       "13                             13                           NaN   \n",
       "\n",
       "    Precipitaciónmm  CloudCover        Eventos  WindDirDegrees  \n",
       "4              0.25           5         Lluvia             199  \n",
       "10             0.00           4         Lluvia             259  \n",
       "11             0.51           6  Niebla-Lluvia             126  \n",
       "12             5.08           2         Lluvia             205  \n",
       "13             0.25           3         Lluvia             242  \n",
       "\n",
       "[5 rows x 23 columns]"
      ]
     },
     "execution_count": 77,
     "metadata": {},
     "output_type": "execute_result"
    }
   ],
   "source": [
    "ldmiss=london[london['Max Velocidad de ráfagasKm/h'].isnull()]\n",
    "ldmiss.head()"
   ]
  },
  {
   "cell_type": "markdown",
   "metadata": {},
   "source": [
    "**Now go back to the Exercise 4 step in FutureLearn to discuss and mark it complete.**"
   ]
  },
  {
   "cell_type": "markdown",
   "metadata": {},
   "source": [
    "##Exercise 5: Every picture tells a story\n",
    "\n",
    "The following line of code tells Jupyter to display inside this notebook any graph that is created."
   ]
  },
  {
   "cell_type": "code",
   "execution_count": 78,
   "metadata": {
    "collapsed": true
   },
   "outputs": [],
   "source": [
    "%matplotlib inline"
   ]
  },
  {
   "cell_type": "markdown",
   "metadata": {},
   "source": [
    "The `plot()` method can make a graph of the values in a column. Gridlines are turned on by the `grid` argument."
   ]
  },
  {
   "cell_type": "code",
   "execution_count": 80,
   "metadata": {
    "collapsed": false,
    "scrolled": true
   },
   "outputs": [
    {
     "data": {
      "text/plain": [
       "<matplotlib.axes._subplots.AxesSubplot at 0x54695d0>"
      ]
     },
     "execution_count": 80,
     "metadata": {},
     "output_type": "execute_result"
    },
    {
     "data": {
      "image/png": "[encoded data removed]",
      "text/plain": [
       "<matplotlib.figure.Figure at 0x5467c90>"
      ]
     },
     "metadata": {},
     "output_type": "display_data"
    }
   ],
   "source": [
    "london['Max Velocidad del vientoKm/h'].plot(grid=True)"
   ]
  },
  {
   "cell_type": "markdown",
   "metadata": {},
   "source": [
    "The graph can be made bigger by giving the method a `figsize=(x,y)` argument where `x` and `y` are integers that determine the length of the x-axis and y-axis."
   ]
  },
  {
   "cell_type": "code",
   "execution_count": 81,
   "metadata": {
    "collapsed": false
   },
   "outputs": [
    {
     "data": {
      "text/plain": [
       "<matplotlib.axes._subplots.AxesSubplot at 0x6246ad0>"
      ]
     },
     "execution_count": 81,
     "metadata": {},
     "output_type": "execute_result"
    },
    {
     "data": {
      "image/png": "[encoded data removed]",
      "text/plain": [
       "<matplotlib.figure.Figure at 0x62c38d0>"
      ]
     },
     "metadata": {},
     "output_type": "display_data"
    }
   ],
   "source": [
    "london['Max Velocidad del vientoKm/h'].plot(grid=True, figsize=(10,5))"
   ]
  },
  {
   "cell_type": "markdown",
   "metadata": {},
   "source": [
    "Multiple lines can be plotted by selecting multiple columns."
   ]
  },
  {
   "cell_type": "code",
   "execution_count": 82,
   "metadata": {
    "collapsed": false
   },
   "outputs": [
    {
     "data": {
      "text/plain": [
       "<matplotlib.axes._subplots.AxesSubplot at 0x5487a30>"
      ]
     },
     "execution_count": 82,
     "metadata": {},
     "output_type": "execute_result"
    },
    {
     "data": {
      "image/png": "[encoded data removed]",
      "text/plain": [
       "<matplotlib.figure.Figure at 0x62214d0>"
      ]
     },
     "metadata": {},
     "output_type": "display_data"
    }
   ],
   "source": [
    "london[['Max Velocidad del vientoKm/h', 'Mean Velocidad del vientoKm/h']].plot(grid=True, figsize=(10,5))"
   ]
  },
  {
   "cell_type": "markdown",
   "metadata": {},
   "source": [
    "### Task\n",
    "\n",
    "In the cell below, write code to plot the minimum, mean, and maximum temperature during 2014 in London."
   ]
  },
  {
   "cell_type": "code",
   "execution_count": 84,
   "metadata": {
    "collapsed": false
   },
   "outputs": [
    {
     "data": {
      "text/plain": [
       "<matplotlib.axes._subplots.AxesSubplot at 0x6281590>"
      ]
     },
     "execution_count": 84,
     "metadata": {},
     "output_type": "execute_result"
    },
    {
     "data": {
      "image/png": "[encoded data removed]",
      "text/plain": [
       "<matplotlib.figure.Figure at 0x74b8a70>"
      ]
     },
     "metadata": {},
     "output_type": "display_data"
    }
   ],
   "source": [
    "london[['Temperatura máximaC', 'Temperatura mediaC', 'Temperatura mínimaC']].plot(grid=True, figsize=(10,5))"
   ]
  },
  {
   "cell_type": "markdown",
   "metadata": {},
   "source": [
    "**Now go back to the Exercise 5 step in FutureLearn to discuss and mark it complete.**"
   ]
  },
  {
   "cell_type": "markdown",
   "metadata": {
    "collapsed": false
   },
   "source": [
    "##Exercise 6: Changing a dataframe's index\n",
    "Changing the dataframe's index from the default to `datetime64` values is done by assigning to the dataframe's `index` attribute the contents of the `'GMT`' column, like this:"
   ]
  },
  {
   "cell_type": "code",
   "execution_count": 85,
   "metadata": {
    "collapsed": false
   },
   "outputs": [
    {
     "data": {
      "text/html": [
       "<div>\n",
       "<table border=\"1\" class=\"dataframe\">\n",
       "  <thead>\n",
       "    <tr style=\"text-align: right;\">\n",
       "      <th></th>\n",
       "      <th>GMT</th>\n",
       "      <th>Temperatura máximaC</th>\n",
       "      <th>Temperatura mediaC</th>\n",
       "      <th>Temperatura mínimaC</th>\n",
       "      <th>Punto de rocíoC</th>\n",
       "      <th>MeanDew PointC</th>\n",
       "      <th>Min DewpointC</th>\n",
       "      <th>Max Humedad</th>\n",
       "      <th>Mean Humedad</th>\n",
       "      <th>Min Humedad</th>\n",
       "      <th>...</th>\n",
       "      <th>Max VisibilidadKm</th>\n",
       "      <th>Mean VisibilidadKm</th>\n",
       "      <th>Min VisibilidadkM</th>\n",
       "      <th>Max Velocidad del vientoKm/h</th>\n",
       "      <th>Mean Velocidad del vientoKm/h</th>\n",
       "      <th>Max Velocidad de ráfagasKm/h</th>\n",
       "      <th>Precipitaciónmm</th>\n",
       "      <th>CloudCover</th>\n",
       "      <th>Eventos</th>\n",
       "      <th>WindDirDegrees</th>\n",
       "    </tr>\n",
       "    <tr>\n",
       "      <th>GMT</th>\n",
       "      <th></th>\n",
       "      <th></th>\n",
       "      <th></th>\n",
       "      <th></th>\n",
       "      <th></th>\n",
       "      <th></th>\n",
       "      <th></th>\n",
       "      <th></th>\n",
       "      <th></th>\n",
       "      <th></th>\n",
       "      <th></th>\n",
       "      <th></th>\n",
       "      <th></th>\n",
       "      <th></th>\n",
       "      <th></th>\n",
       "      <th></th>\n",
       "      <th></th>\n",
       "      <th></th>\n",
       "      <th></th>\n",
       "      <th></th>\n",
       "      <th></th>\n",
       "    </tr>\n",
       "  </thead>\n",
       "  <tbody>\n",
       "    <tr>\n",
       "      <th>2014-01-01</th>\n",
       "      <td>2014-01-01</td>\n",
       "      <td>11</td>\n",
       "      <td>8</td>\n",
       "      <td>6</td>\n",
       "      <td>9</td>\n",
       "      <td>7</td>\n",
       "      <td>4</td>\n",
       "      <td>94</td>\n",
       "      <td>86</td>\n",
       "      <td>73</td>\n",
       "      <td>...</td>\n",
       "      <td>31</td>\n",
       "      <td>11</td>\n",
       "      <td>2</td>\n",
       "      <td>40</td>\n",
       "      <td>26</td>\n",
       "      <td>66</td>\n",
       "      <td>9.91</td>\n",
       "      <td>4</td>\n",
       "      <td>Lluvia</td>\n",
       "      <td>186</td>\n",
       "    </tr>\n",
       "    <tr>\n",
       "      <th>2014-01-02</th>\n",
       "      <td>2014-01-02</td>\n",
       "      <td>11</td>\n",
       "      <td>9</td>\n",
       "      <td>6</td>\n",
       "      <td>9</td>\n",
       "      <td>6</td>\n",
       "      <td>4</td>\n",
       "      <td>94</td>\n",
       "      <td>81</td>\n",
       "      <td>60</td>\n",
       "      <td>...</td>\n",
       "      <td>31</td>\n",
       "      <td>15</td>\n",
       "      <td>5</td>\n",
       "      <td>32</td>\n",
       "      <td>21</td>\n",
       "      <td>50</td>\n",
       "      <td>1.02</td>\n",
       "      <td>2</td>\n",
       "      <td>Lluvia</td>\n",
       "      <td>214</td>\n",
       "    </tr>\n",
       "  </tbody>\n",
       "</table>\n",
       "<p>2 rows × 23 columns</p>\n",
       "</div>"
      ],
      "text/plain": [
       "                  GMT  Temperatura máximaC  Temperatura mediaC  \\\n",
       "GMT                                                              \n",
       "2014-01-01 2014-01-01                   11                   8   \n",
       "2014-01-02 2014-01-02                   11                   9   \n",
       "\n",
       "            Temperatura mínimaC  Punto de rocíoC  MeanDew PointC  \\\n",
       "GMT                                                                \n",
       "2014-01-01                    6                9               7   \n",
       "2014-01-02                    6                9               6   \n",
       "\n",
       "            Min DewpointC  Max Humedad  Mean Humedad  Min Humedad  \\\n",
       "GMT                                                                 \n",
       "2014-01-01              4           94            86           73   \n",
       "2014-01-02              4           94            81           60   \n",
       "\n",
       "                 ...        Max VisibilidadKm  Mean VisibilidadKm  \\\n",
       "GMT              ...                                                \n",
       "2014-01-01       ...                       31                  11   \n",
       "2014-01-02       ...                       31                  15   \n",
       "\n",
       "            Min VisibilidadkM  Max Velocidad del vientoKm/h  \\\n",
       "GMT                                                           \n",
       "2014-01-01                  2                            40   \n",
       "2014-01-02                  5                            32   \n",
       "\n",
       "            Mean Velocidad del vientoKm/h  Max Velocidad de ráfagasKm/h  \\\n",
       "GMT                                                                       \n",
       "2014-01-01                             26                            66   \n",
       "2014-01-02                             21                            50   \n",
       "\n",
       "            Precipitaciónmm  CloudCover  Eventos  WindDirDegrees  \n",
       "GMT                                                               \n",
       "2014-01-01             9.91           4   Lluvia             186  \n",
       "2014-01-02             1.02           2   Lluvia             214  \n",
       "\n",
       "[2 rows x 23 columns]"
      ]
     },
     "execution_count": 85,
     "metadata": {},
     "output_type": "execute_result"
    }
   ],
   "source": [
    "london.index = london['GMT']\n",
    "london.head(2)"
   ]
  },
  {
   "cell_type": "markdown",
   "metadata": {
    "collapsed": false
   },
   "source": [
    "The `irow()` method can still be used to get and display rows, but now you can now also use the `datetime64` index to get a row using the dataframe's `ix` (index) property, like this:"
   ]
  },
  {
   "cell_type": "code",
   "execution_count": 86,
   "metadata": {
    "collapsed": false
   },
   "outputs": [
    {
     "data": {
      "text/plain": [
       "GMT                                 2014-01-01 00:00:00\n",
       "Temperatura máximaC                                  11\n",
       "Temperatura mediaC                                    8\n",
       "Temperatura mínimaC                                   6\n",
       "Punto de rocíoC                                       9\n",
       "MeanDew PointC                                        7\n",
       "Min DewpointC                                         4\n",
       "Max Humedad                                          94\n",
       "Mean Humedad                                         86\n",
       "Min Humedad                                          73\n",
       "Max Presión al nivel del marhPa                    1002\n",
       "Mean Presión al nivel del marhPa                    993\n",
       "Min Presión al nivel del marhPa                     984\n",
       "Max VisibilidadKm                                    31\n",
       "Mean VisibilidadKm                                   11\n",
       "Min VisibilidadkM                                     2\n",
       "Max Velocidad del vientoKm/h                         40\n",
       "Mean Velocidad del vientoKm/h                        26\n",
       "Max Velocidad de ráfagasKm/h                         66\n",
       "Precipitaciónmm                                    9.91\n",
       "CloudCover                                            4\n",
       "Eventos                                          Lluvia\n",
       "WindDirDegrees                                      186\n",
       "Name: 2014-01-01 00:00:00, dtype: object"
      ]
     },
     "execution_count": 86,
     "metadata": {},
     "output_type": "execute_result"
    }
   ],
   "source": [
    "london.ix[datetime(2014, 1, 1)]"
   ]
  },
  {
   "cell_type": "markdown",
   "metadata": {
    "collapsed": false
   },
   "source": [
    "A query such as *'Return all the rows where the date is between December 8th and December 12th'* can now be done  succinctly like this:"
   ]
  },
  {
   "cell_type": "code",
   "execution_count": 87,
   "metadata": {
    "collapsed": false
   },
   "outputs": [
    {
     "data": {
      "text/html": [
       "<div>\n",
       "<table border=\"1\" class=\"dataframe\">\n",
       "  <thead>\n",
       "    <tr style=\"text-align: right;\">\n",
       "      <th></th>\n",
       "      <th>GMT</th>\n",
       "      <th>Temperatura máximaC</th>\n",
       "      <th>Temperatura mediaC</th>\n",
       "      <th>Temperatura mínimaC</th>\n",
       "      <th>Punto de rocíoC</th>\n",
       "      <th>MeanDew PointC</th>\n",
       "      <th>Min DewpointC</th>\n",
       "      <th>Max Humedad</th>\n",
       "      <th>Mean Humedad</th>\n",
       "      <th>Min Humedad</th>\n",
       "      <th>...</th>\n",
       "      <th>Max VisibilidadKm</th>\n",
       "      <th>Mean VisibilidadKm</th>\n",
       "      <th>Min VisibilidadkM</th>\n",
       "      <th>Max Velocidad del vientoKm/h</th>\n",
       "      <th>Mean Velocidad del vientoKm/h</th>\n",
       "      <th>Max Velocidad de ráfagasKm/h</th>\n",
       "      <th>Precipitaciónmm</th>\n",
       "      <th>CloudCover</th>\n",
       "      <th>Eventos</th>\n",
       "      <th>WindDirDegrees</th>\n",
       "    </tr>\n",
       "    <tr>\n",
       "      <th>GMT</th>\n",
       "      <th></th>\n",
       "      <th></th>\n",
       "      <th></th>\n",
       "      <th></th>\n",
       "      <th></th>\n",
       "      <th></th>\n",
       "      <th></th>\n",
       "      <th></th>\n",
       "      <th></th>\n",
       "      <th></th>\n",
       "      <th></th>\n",
       "      <th></th>\n",
       "      <th></th>\n",
       "      <th></th>\n",
       "      <th></th>\n",
       "      <th></th>\n",
       "      <th></th>\n",
       "      <th></th>\n",
       "      <th></th>\n",
       "      <th></th>\n",
       "      <th></th>\n",
       "    </tr>\n",
       "  </thead>\n",
       "  <tbody>\n",
       "    <tr>\n",
       "      <th>2014-12-08</th>\n",
       "      <td>2014-12-08</td>\n",
       "      <td>7</td>\n",
       "      <td>4</td>\n",
       "      <td>1</td>\n",
       "      <td>2</td>\n",
       "      <td>1</td>\n",
       "      <td>-1</td>\n",
       "      <td>93</td>\n",
       "      <td>76</td>\n",
       "      <td>51</td>\n",
       "      <td>...</td>\n",
       "      <td>31</td>\n",
       "      <td>17</td>\n",
       "      <td>10</td>\n",
       "      <td>23</td>\n",
       "      <td>13</td>\n",
       "      <td>NaN</td>\n",
       "      <td>0.00</td>\n",
       "      <td>2</td>\n",
       "      <td>Lluvia</td>\n",
       "      <td>270</td>\n",
       "    </tr>\n",
       "    <tr>\n",
       "      <th>2014-12-09</th>\n",
       "      <td>2014-12-09</td>\n",
       "      <td>12</td>\n",
       "      <td>6</td>\n",
       "      <td>-1</td>\n",
       "      <td>11</td>\n",
       "      <td>3</td>\n",
       "      <td>-1</td>\n",
       "      <td>100</td>\n",
       "      <td>86</td>\n",
       "      <td>64</td>\n",
       "      <td>...</td>\n",
       "      <td>31</td>\n",
       "      <td>15</td>\n",
       "      <td>3</td>\n",
       "      <td>37</td>\n",
       "      <td>14</td>\n",
       "      <td>52</td>\n",
       "      <td>0.25</td>\n",
       "      <td>5</td>\n",
       "      <td>Lluvia</td>\n",
       "      <td>224</td>\n",
       "    </tr>\n",
       "    <tr>\n",
       "      <th>2014-12-10</th>\n",
       "      <td>2014-12-10</td>\n",
       "      <td>9</td>\n",
       "      <td>7</td>\n",
       "      <td>6</td>\n",
       "      <td>11</td>\n",
       "      <td>3</td>\n",
       "      <td>1</td>\n",
       "      <td>90</td>\n",
       "      <td>70</td>\n",
       "      <td>44</td>\n",
       "      <td>...</td>\n",
       "      <td>31</td>\n",
       "      <td>18</td>\n",
       "      <td>3</td>\n",
       "      <td>40</td>\n",
       "      <td>27</td>\n",
       "      <td>NaN</td>\n",
       "      <td>0.00</td>\n",
       "      <td>2</td>\n",
       "      <td>Lluvia</td>\n",
       "      <td>246</td>\n",
       "    </tr>\n",
       "    <tr>\n",
       "      <th>2014-12-11</th>\n",
       "      <td>2014-12-11</td>\n",
       "      <td>10</td>\n",
       "      <td>8</td>\n",
       "      <td>5</td>\n",
       "      <td>6</td>\n",
       "      <td>3</td>\n",
       "      <td>2</td>\n",
       "      <td>82</td>\n",
       "      <td>72</td>\n",
       "      <td>51</td>\n",
       "      <td>...</td>\n",
       "      <td>31</td>\n",
       "      <td>15</td>\n",
       "      <td>10</td>\n",
       "      <td>40</td>\n",
       "      <td>31</td>\n",
       "      <td>NaN</td>\n",
       "      <td>0.25</td>\n",
       "      <td>2</td>\n",
       "      <td>Lluvia</td>\n",
       "      <td>246</td>\n",
       "    </tr>\n",
       "    <tr>\n",
       "      <th>2014-12-12</th>\n",
       "      <td>2014-12-12</td>\n",
       "      <td>9</td>\n",
       "      <td>6</td>\n",
       "      <td>2</td>\n",
       "      <td>9</td>\n",
       "      <td>4</td>\n",
       "      <td>-1</td>\n",
       "      <td>94</td>\n",
       "      <td>79</td>\n",
       "      <td>59</td>\n",
       "      <td>...</td>\n",
       "      <td>31</td>\n",
       "      <td>11</td>\n",
       "      <td>3</td>\n",
       "      <td>40</td>\n",
       "      <td>26</td>\n",
       "      <td>55</td>\n",
       "      <td>1.02</td>\n",
       "      <td>3</td>\n",
       "      <td>Lluvia</td>\n",
       "      <td>253</td>\n",
       "    </tr>\n",
       "  </tbody>\n",
       "</table>\n",
       "<p>5 rows × 23 columns</p>\n",
       "</div>"
      ],
      "text/plain": [
       "                  GMT  Temperatura máximaC  Temperatura mediaC  \\\n",
       "GMT                                                              \n",
       "2014-12-08 2014-12-08                    7                   4   \n",
       "2014-12-09 2014-12-09                   12                   6   \n",
       "2014-12-10 2014-12-10                    9                   7   \n",
       "2014-12-11 2014-12-11                   10                   8   \n",
       "2014-12-12 2014-12-12                    9                   6   \n",
       "\n",
       "            Temperatura mínimaC  Punto de rocíoC  MeanDew PointC  \\\n",
       "GMT                                                                \n",
       "2014-12-08                    1                2               1   \n",
       "2014-12-09                   -1               11               3   \n",
       "2014-12-10                    6               11               3   \n",
       "2014-12-11                    5                6               3   \n",
       "2014-12-12                    2                9               4   \n",
       "\n",
       "            Min DewpointC  Max Humedad  Mean Humedad  Min Humedad  \\\n",
       "GMT                                                                 \n",
       "2014-12-08             -1           93            76           51   \n",
       "2014-12-09             -1          100            86           64   \n",
       "2014-12-10              1           90            70           44   \n",
       "2014-12-11              2           82            72           51   \n",
       "2014-12-12             -1           94            79           59   \n",
       "\n",
       "                 ...        Max VisibilidadKm  Mean VisibilidadKm  \\\n",
       "GMT              ...                                                \n",
       "2014-12-08       ...                       31                  17   \n",
       "2014-12-09       ...                       31                  15   \n",
       "2014-12-10       ...                       31                  18   \n",
       "2014-12-11       ...                       31                  15   \n",
       "2014-12-12       ...                       31                  11   \n",
       "\n",
       "            Min VisibilidadkM  Max Velocidad del vientoKm/h  \\\n",
       "GMT                                                           \n",
       "2014-12-08                 10                            23   \n",
       "2014-12-09                  3                            37   \n",
       "2014-12-10                  3                            40   \n",
       "2014-12-11                 10                            40   \n",
       "2014-12-12                  3                            40   \n",
       "\n",
       "            Mean Velocidad del vientoKm/h  Max Velocidad de ráfagasKm/h  \\\n",
       "GMT                                                                       \n",
       "2014-12-08                             13                           NaN   \n",
       "2014-12-09                             14                            52   \n",
       "2014-12-10                             27                           NaN   \n",
       "2014-12-11                             31                           NaN   \n",
       "2014-12-12                             26                            55   \n",
       "\n",
       "            Precipitaciónmm  CloudCover  Eventos  WindDirDegrees  \n",
       "GMT                                                               \n",
       "2014-12-08             0.00           2   Lluvia             270  \n",
       "2014-12-09             0.25           5   Lluvia             224  \n",
       "2014-12-10             0.00           2   Lluvia             246  \n",
       "2014-12-11             0.25           2   Lluvia             246  \n",
       "2014-12-12             1.02           3   Lluvia             253  \n",
       "\n",
       "[5 rows x 23 columns]"
      ]
     },
     "execution_count": 87,
     "metadata": {},
     "output_type": "execute_result"
    }
   ],
   "source": [
    "london.ix[datetime(2014,12,8) : datetime(2014,12,12)]\n",
    "\n",
    "#The meaning of the above code is get the rows beween and including \n",
    "#the indices datetime(2014,12,8) and datetime(2014,12,12)"
   ]
  },
  {
   "cell_type": "markdown",
   "metadata": {},
   "source": [
    "Now we have a `datetime64` index, let's plot `'Max Wind SpeedKm/h'` again:"
   ]
  },
  {
   "cell_type": "code",
   "execution_count": 89,
   "metadata": {
    "collapsed": false,
    "scrolled": true
   },
   "outputs": [
    {
     "data": {
      "text/plain": [
       "<matplotlib.axes._subplots.AxesSubplot at 0x7695230>"
      ]
     },
     "execution_count": 89,
     "metadata": {},
     "output_type": "execute_result"
    },
    {
     "data": {
      "image/png": "[encoded data removed]",
      "text/plain": [
       "<matplotlib.figure.Figure at 0x7d5b630>"
      ]
     },
     "metadata": {},
     "output_type": "display_data"
    }
   ],
   "source": [
    "london['Max Velocidad del vientoKm/h'].plot(grid=True, figsize=(10,5))"
   ]
  },
  {
   "cell_type": "markdown",
   "metadata": {
    "collapsed": false
   },
   "source": [
    "Now it is much clearer that the worst winds were in mid February.\n",
    "\n",
    "###Task\n",
    "Use the code cell below to plot the values of `'Mean Humidity'` during spring (full months of March, April and May)."
   ]
  },
  {
   "cell_type": "code",
   "execution_count": 93,
   "metadata": {
    "collapsed": false
   },
   "outputs": [
    {
     "data": {
      "text/plain": [
       "<matplotlib.axes._subplots.AxesSubplot at 0x81461b0>"
      ]
     },
     "execution_count": 93,
     "metadata": {},
     "output_type": "execute_result"
    },
    {
     "data": {
      "image/png": "[encoded data removed]",
      "text/plain": [
       "<matplotlib.figure.Figure at 0x814a310>"
      ]
     },
     "metadata": {},
     "output_type": "display_data"
    }
   ],
   "source": [
    "london['Mean Humedad'].ix[datetime(2014,3,1) : datetime(2014,5,31)].plot(grid=True, figsize=(10,5))"
   ]
  },
  {
   "cell_type": "markdown",
   "metadata": {},
   "source": [
    "**Now go back to the Exercise 6 step in FutureLearn to discuss and mark it complete.**"
   ]
  },
  {
   "cell_type": "code",
   "execution_count": null,
   "metadata": {
    "collapsed": true
   },
   "outputs": [],
   "source": []
  }
 ],
 "metadata": {
  "kernelspec": {
   "display_name": "Python 3",
   "language": "python",
   "name": "python3"
  }
 },
 "nbformat": 4,
 "nbformat_minor": 0
}
